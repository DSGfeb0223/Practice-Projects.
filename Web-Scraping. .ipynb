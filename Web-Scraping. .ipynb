{
 "cells": [
  {
   "cell_type": "code",
   "execution_count": 1,
   "id": "31c6e566",
   "metadata": {},
   "outputs": [
    {
     "name": "stdout",
     "output_type": "stream",
     "text": [
      "Requirement already satisfied: selenium in c:\\users\\mayank\\anaconda3\\lib\\site-packages (4.12.0)\n",
      "Requirement already satisfied: urllib3[socks]<3,>=1.26 in c:\\users\\mayank\\anaconda3\\lib\\site-packages (from selenium) (1.26.11)\n",
      "Requirement already satisfied: certifi>=2021.10.8 in c:\\users\\mayank\\anaconda3\\lib\\site-packages (from selenium) (2022.9.14)\n",
      "Requirement already satisfied: trio~=0.17 in c:\\users\\mayank\\anaconda3\\lib\\site-packages (from selenium) (0.22.2)\n",
      "Requirement already satisfied: trio-websocket~=0.9 in c:\\users\\mayank\\anaconda3\\lib\\site-packages (from selenium) (0.10.4)\n",
      "Requirement already satisfied: sniffio in c:\\users\\mayank\\anaconda3\\lib\\site-packages (from trio~=0.17->selenium) (1.2.0)\n",
      "Requirement already satisfied: sortedcontainers in c:\\users\\mayank\\anaconda3\\lib\\site-packages (from trio~=0.17->selenium) (2.4.0)\n",
      "Requirement already satisfied: attrs>=20.1.0 in c:\\users\\mayank\\anaconda3\\lib\\site-packages (from trio~=0.17->selenium) (21.4.0)\n",
      "Requirement already satisfied: exceptiongroup>=1.0.0rc9 in c:\\users\\mayank\\anaconda3\\lib\\site-packages (from trio~=0.17->selenium) (1.1.3)\n",
      "Requirement already satisfied: outcome in c:\\users\\mayank\\anaconda3\\lib\\site-packages (from trio~=0.17->selenium) (1.2.0)\n",
      "Requirement already satisfied: idna in c:\\users\\mayank\\anaconda3\\lib\\site-packages (from trio~=0.17->selenium) (3.3)\n",
      "Requirement already satisfied: cffi>=1.14 in c:\\users\\mayank\\anaconda3\\lib\\site-packages (from trio~=0.17->selenium) (1.15.1)\n",
      "Requirement already satisfied: wsproto>=0.14 in c:\\users\\mayank\\anaconda3\\lib\\site-packages (from trio-websocket~=0.9->selenium) (1.2.0)\n",
      "Requirement already satisfied: PySocks!=1.5.7,<2.0,>=1.5.6 in c:\\users\\mayank\\anaconda3\\lib\\site-packages (from urllib3[socks]<3,>=1.26->selenium) (1.7.1)\n",
      "Requirement already satisfied: pycparser in c:\\users\\mayank\\anaconda3\\lib\\site-packages (from cffi>=1.14->trio~=0.17->selenium) (2.21)\n",
      "Requirement already satisfied: h11<1,>=0.9.0 in c:\\users\\mayank\\anaconda3\\lib\\site-packages (from wsproto>=0.14->trio-websocket~=0.9->selenium) (0.14.0)\n"
     ]
    }
   ],
   "source": [
    "!pip install selenium "
   ]
  },
  {
   "cell_type": "code",
   "execution_count": 48,
   "id": "2748684a",
   "metadata": {},
   "outputs": [],
   "source": [
    "import selenium \n",
    "import pandas as pd \n",
    "from selenium import webdriver \n",
    "import warnings \n",
    "warnings.filterwarnings('ignore')\n",
    "from selenium.webdriver.common.by import By # This is for syntax purpose. \n",
    "import time"
   ]
  },
  {
   "cell_type": "code",
   "execution_count": 49,
   "id": "5a971cae",
   "metadata": {},
   "outputs": [],
   "source": [
    "driver = webdriver.Chrome()"
   ]
  },
  {
   "cell_type": "code",
   "execution_count": 50,
   "id": "b0355323",
   "metadata": {},
   "outputs": [],
   "source": [
    "driver.get(\"https://www.shine.com/\")"
   ]
  },
  {
   "cell_type": "code",
   "execution_count": 52,
   "id": "61c0952b",
   "metadata": {},
   "outputs": [],
   "source": [
    "designation=driver.find_element(By.CLASS_NAME,\"form-control\")\n",
    "designation.send_keys('Data Analyst')"
   ]
  },
  {
   "cell_type": "code",
   "execution_count": 53,
   "id": "5c51b284",
   "metadata": {},
   "outputs": [],
   "source": [
    "location=driver.find_element(By.XPATH,\"/html/body/div[1]/div[4]/div/div[2]/div[2]/div[1]/form/div/div[1]/ul/li[2]/div/input\")\n",
    "location.send_keys('Bangalore')"
   ]
  },
  {
   "cell_type": "code",
   "execution_count": 54,
   "id": "0feac79b",
   "metadata": {},
   "outputs": [],
   "source": [
    "search=driver.find_element(By.CLASS_NAME,\"searchForm_btnWrap_advance__VYBHN\")\n",
    "search.click()"
   ]
  },
  {
   "cell_type": "code",
   "execution_count": 86,
   "id": "c463f7e8",
   "metadata": {},
   "outputs": [],
   "source": [
    "job_title=[]\n",
    "job_location=[]\n",
    "company_name=[]\n",
    "experience_required=[]"
   ]
  },
  {
   "cell_type": "code",
   "execution_count": 87,
   "id": "a1fe239f",
   "metadata": {},
   "outputs": [],
   "source": [
    "title_tags=driver.find_elements(By.XPATH,'//div[@class=\"jobCard_jobCard_features__wJid6\"]') \n",
    "for i in title_tags:\n",
    "    title=i.text\n",
    "    job_title.append(title)\n",
    "    \n",
    "location_tags=driver.find_elements(By.XPATH,'//div[@class=\" jobCard_jobCard_lists_item__YxRkV jobCard_locationIcon__zrWt2\"]')\n",
    "for i in location_tags:\n",
    "    location=i.text\n",
    "    job_location.append(location)\n",
    "    \n",
    "company_tags=driver.find_elements(By.XPATH,'//div[@class=\"jobCard_jobCard_cName__mYnow\"]')\n",
    "for i in company_tags:\n",
    "    company=i.text\n",
    "    company_name.append(company)\n",
    "     \n",
    "experience_tags=driver.find_elements(By.XPATH,'//div[@class=\" jobCard_jobCard_lists_item__YxRkV jobCard_jobIcon__3FB1t\"]')\n",
    "for i in experience_tags:\n",
    "    exp=i.text\n",
    "    experience_required.append(exp)\n",
    "    "
   ]
  },
  {
   "cell_type": "code",
   "execution_count": 88,
   "id": "a4890dca",
   "metadata": {},
   "outputs": [
    {
     "name": "stdout",
     "output_type": "stream",
     "text": [
      "20 20 20 20\n"
     ]
    }
   ],
   "source": [
    "print(len(job_title),len(job_location),len(company_name),len(experience_required))"
   ]
  },
  {
   "cell_type": "code",
   "execution_count": 90,
   "id": "06dd8e45",
   "metadata": {},
   "outputs": [
    {
     "data": {
      "text/html": [
       "<div>\n",
       "<style scoped>\n",
       "    .dataframe tbody tr th:only-of-type {\n",
       "        vertical-align: middle;\n",
       "    }\n",
       "\n",
       "    .dataframe tbody tr th {\n",
       "        vertical-align: top;\n",
       "    }\n",
       "\n",
       "    .dataframe thead th {\n",
       "        text-align: right;\n",
       "    }\n",
       "</style>\n",
       "<table border=\"1\" class=\"dataframe\">\n",
       "  <thead>\n",
       "    <tr style=\"text-align: right;\">\n",
       "      <th></th>\n",
       "      <th>Title</th>\n",
       "      <th>Location</th>\n",
       "      <th>Company_name</th>\n",
       "      <th>Exeperience</th>\n",
       "    </tr>\n",
       "  </thead>\n",
       "  <tbody>\n",
       "    <tr>\n",
       "      <th>0</th>\n",
       "      <td>Hot\\n1 day ago</td>\n",
       "      <td>Bangalore\\n+9</td>\n",
       "      <td>krishna consultancy.. hiring for co...</td>\n",
       "      <td>4 to 9 Yrs</td>\n",
       "    </tr>\n",
       "    <tr>\n",
       "      <th>1</th>\n",
       "      <td>Hot\\n0 days ago</td>\n",
       "      <td>Bangalore</td>\n",
       "      <td>provizor it services pvt. ltd.</td>\n",
       "      <td>2 to 5 Yrs</td>\n",
       "    </tr>\n",
       "    <tr>\n",
       "      <th>2</th>\n",
       "      <td>7 days ago</td>\n",
       "      <td>Bangalore\\n+9</td>\n",
       "      <td>prime services..</td>\n",
       "      <td>0 to 1 Yr</td>\n",
       "    </tr>\n",
       "    <tr>\n",
       "      <th>3</th>\n",
       "      <td>Premium\\n1 week ago</td>\n",
       "      <td>Bangalore\\n+8</td>\n",
       "      <td>harjai computers private limited</td>\n",
       "      <td>2 to 5 Yrs</td>\n",
       "    </tr>\n",
       "    <tr>\n",
       "      <th>4</th>\n",
       "      <td>Premium\\n1 week ago</td>\n",
       "      <td>Bangalore\\n+8</td>\n",
       "      <td>harjai computers private limited</td>\n",
       "      <td>0 to 2 Yrs</td>\n",
       "    </tr>\n",
       "    <tr>\n",
       "      <th>5</th>\n",
       "      <td>Premium\\n1 week ago</td>\n",
       "      <td>Bangalore</td>\n",
       "      <td>true caller</td>\n",
       "      <td>3 to 5 Yrs</td>\n",
       "    </tr>\n",
       "    <tr>\n",
       "      <th>6</th>\n",
       "      <td>Premium\\n2 weeks ago</td>\n",
       "      <td>Bangalore</td>\n",
       "      <td>bosch group</td>\n",
       "      <td>4 to 6 Yrs</td>\n",
       "    </tr>\n",
       "    <tr>\n",
       "      <th>7</th>\n",
       "      <td>Premium\\n2 weeks ago</td>\n",
       "      <td>Bangalore</td>\n",
       "      <td>true caller</td>\n",
       "      <td>5 to 7 Yrs</td>\n",
       "    </tr>\n",
       "    <tr>\n",
       "      <th>8</th>\n",
       "      <td>1 week ago</td>\n",
       "      <td>Bangalore\\n+9</td>\n",
       "      <td>prime services..</td>\n",
       "      <td>0 to 1 Yr</td>\n",
       "    </tr>\n",
       "    <tr>\n",
       "      <th>9</th>\n",
       "      <td>3 days ago</td>\n",
       "      <td>Bangalore\\n+9</td>\n",
       "      <td>realtech solutions</td>\n",
       "      <td>0 to 1 Yr</td>\n",
       "    </tr>\n",
       "  </tbody>\n",
       "</table>\n",
       "</div>"
      ],
      "text/plain": [
       "                  Title       Location  \\\n",
       "0        Hot\\n1 day ago  Bangalore\\n+9   \n",
       "1       Hot\\n0 days ago      Bangalore   \n",
       "2            7 days ago  Bangalore\\n+9   \n",
       "3   Premium\\n1 week ago  Bangalore\\n+8   \n",
       "4   Premium\\n1 week ago  Bangalore\\n+8   \n",
       "5   Premium\\n1 week ago      Bangalore   \n",
       "6  Premium\\n2 weeks ago      Bangalore   \n",
       "7  Premium\\n2 weeks ago      Bangalore   \n",
       "8            1 week ago  Bangalore\\n+9   \n",
       "9            3 days ago  Bangalore\\n+9   \n",
       "\n",
       "                             Company_name Exeperience  \n",
       "0  krishna consultancy.. hiring for co...  4 to 9 Yrs  \n",
       "1          provizor it services pvt. ltd.  2 to 5 Yrs  \n",
       "2                        prime services..   0 to 1 Yr  \n",
       "3        harjai computers private limited  2 to 5 Yrs  \n",
       "4        harjai computers private limited  0 to 2 Yrs  \n",
       "5                             true caller  3 to 5 Yrs  \n",
       "6                             bosch group  4 to 6 Yrs  \n",
       "7                             true caller  5 to 7 Yrs  \n",
       "8                        prime services..   0 to 1 Yr  \n",
       "9                      realtech solutions   0 to 1 Yr  "
      ]
     },
     "execution_count": 90,
     "metadata": {},
     "output_type": "execute_result"
    }
   ],
   "source": [
    "import pandas as pd \n",
    "\n",
    "df=pd.DataFrame({'Title':job_title[:10],'Location':job_location[:10],'Company_name':company_name[:10],'Exeperience':experience_required[:10]})\n",
    "\n",
    "df"
   ]
  },
  {
   "cell_type": "code",
   "execution_count": 91,
   "id": "2c260e2a",
   "metadata": {},
   "outputs": [],
   "source": [
    "driver = webdriver.Chrome()"
   ]
  },
  {
   "cell_type": "code",
   "execution_count": 92,
   "id": "cdb4d287",
   "metadata": {},
   "outputs": [],
   "source": [
    "driver.get(\"https://www.shine.com/\")"
   ]
  },
  {
   "cell_type": "code",
   "execution_count": 93,
   "id": "384d8101",
   "metadata": {},
   "outputs": [],
   "source": [
    "designation=driver.find_element(By.CLASS_NAME,\"form-control\")\n",
    "designation.send_keys('Data Scientist')"
   ]
  },
  {
   "cell_type": "code",
   "execution_count": 94,
   "id": "fcfe6364",
   "metadata": {},
   "outputs": [],
   "source": [
    "location=driver.find_element(By.XPATH,\"/html/body/div[1]/div[4]/div/div[2]/div[2]/div[1]/form/div/div[1]/ul/li[2]/div/input\")\n",
    "location.send_keys('Bangalore')"
   ]
  },
  {
   "cell_type": "code",
   "execution_count": 95,
   "id": "215a917c",
   "metadata": {},
   "outputs": [],
   "source": [
    "search=driver.find_element(By.CLASS_NAME,\"searchForm_btnWrap_advance__VYBHN\")\n",
    "search.click()"
   ]
  },
  {
   "cell_type": "code",
   "execution_count": 96,
   "id": "1d7ad41c",
   "metadata": {},
   "outputs": [],
   "source": [
    "job_title=[]\n",
    "job_location=[]\n",
    "company_name=[]"
   ]
  },
  {
   "cell_type": "code",
   "execution_count": 97,
   "id": "6901789a",
   "metadata": {},
   "outputs": [],
   "source": [
    "title_tags=driver.find_elements(By.XPATH,'//div[@class=\"jobCard_jobCard_features__wJid6\"]') \n",
    "for i in title_tags:\n",
    "    title=i.text\n",
    "    job_title.append(title)\n",
    "    \n",
    "location_tags=driver.find_elements(By.XPATH,'//div[@class=\" jobCard_jobCard_lists_item__YxRkV jobCard_locationIcon__zrWt2\"]')\n",
    "for i in location_tags:\n",
    "    location=i.text\n",
    "    job_location.append(location)\n",
    "    \n",
    "company_tags=driver.find_elements(By.XPATH,'//div[@class=\"jobCard_jobCard_cName__mYnow\"]')\n",
    "for i in company_tags:\n",
    "    company=i.text\n",
    "    company_name.append(company)"
   ]
  },
  {
   "cell_type": "code",
   "execution_count": 98,
   "id": "a5679280",
   "metadata": {},
   "outputs": [
    {
     "name": "stdout",
     "output_type": "stream",
     "text": [
      "20 20 20\n"
     ]
    }
   ],
   "source": [
    "print(len(job_title),len(job_location),len(company_name))"
   ]
  },
  {
   "cell_type": "code",
   "execution_count": 99,
   "id": "da56f35a",
   "metadata": {},
   "outputs": [
    {
     "data": {
      "text/html": [
       "<div>\n",
       "<style scoped>\n",
       "    .dataframe tbody tr th:only-of-type {\n",
       "        vertical-align: middle;\n",
       "    }\n",
       "\n",
       "    .dataframe tbody tr th {\n",
       "        vertical-align: top;\n",
       "    }\n",
       "\n",
       "    .dataframe thead th {\n",
       "        text-align: right;\n",
       "    }\n",
       "</style>\n",
       "<table border=\"1\" class=\"dataframe\">\n",
       "  <thead>\n",
       "    <tr style=\"text-align: right;\">\n",
       "      <th></th>\n",
       "      <th>Title</th>\n",
       "      <th>Location</th>\n",
       "      <th>Company_name</th>\n",
       "      <th>Exeperience</th>\n",
       "    </tr>\n",
       "  </thead>\n",
       "  <tbody>\n",
       "    <tr>\n",
       "      <th>0</th>\n",
       "      <td>3 days ago</td>\n",
       "      <td>Bangalore</td>\n",
       "      <td>the fashion cosmo</td>\n",
       "      <td>4 to 9 Yrs</td>\n",
       "    </tr>\n",
       "    <tr>\n",
       "      <th>1</th>\n",
       "      <td>4 days ago</td>\n",
       "      <td>Bangalore</td>\n",
       "      <td>te connectivity india pvt ltd</td>\n",
       "      <td>2 to 5 Yrs</td>\n",
       "    </tr>\n",
       "    <tr>\n",
       "      <th>2</th>\n",
       "      <td>5 days ago</td>\n",
       "      <td>Bangalore</td>\n",
       "      <td>sap india pvt ltd</td>\n",
       "      <td>0 to 1 Yr</td>\n",
       "    </tr>\n",
       "    <tr>\n",
       "      <th>3</th>\n",
       "      <td>Premium\\n1 week ago</td>\n",
       "      <td>Bangalore</td>\n",
       "      <td>inmobi</td>\n",
       "      <td>2 to 5 Yrs</td>\n",
       "    </tr>\n",
       "    <tr>\n",
       "      <th>4</th>\n",
       "      <td>1 week ago</td>\n",
       "      <td>Bangalore\\n+17</td>\n",
       "      <td>kavya staffing solutions</td>\n",
       "      <td>0 to 2 Yrs</td>\n",
       "    </tr>\n",
       "    <tr>\n",
       "      <th>5</th>\n",
       "      <td>2 weeks ago</td>\n",
       "      <td>Bangalore\\n+9</td>\n",
       "      <td>realtech solutions</td>\n",
       "      <td>3 to 5 Yrs</td>\n",
       "    </tr>\n",
       "    <tr>\n",
       "      <th>6</th>\n",
       "      <td>2 weeks ago</td>\n",
       "      <td>Bangalore\\n+6</td>\n",
       "      <td>quiscon biotech</td>\n",
       "      <td>4 to 6 Yrs</td>\n",
       "    </tr>\n",
       "    <tr>\n",
       "      <th>7</th>\n",
       "      <td>Premium\\n2 weeks ago</td>\n",
       "      <td>Bangalore</td>\n",
       "      <td>amazon</td>\n",
       "      <td>5 to 7 Yrs</td>\n",
       "    </tr>\n",
       "    <tr>\n",
       "      <th>8</th>\n",
       "      <td>3 weeks ago</td>\n",
       "      <td>Bangalore\\n+17</td>\n",
       "      <td>kavya staffing solutions</td>\n",
       "      <td>0 to 1 Yr</td>\n",
       "    </tr>\n",
       "    <tr>\n",
       "      <th>9</th>\n",
       "      <td>Premium\\n3 days ago</td>\n",
       "      <td>Bangalore</td>\n",
       "      <td>amazon</td>\n",
       "      <td>0 to 1 Yr</td>\n",
       "    </tr>\n",
       "  </tbody>\n",
       "</table>\n",
       "</div>"
      ],
      "text/plain": [
       "                  Title        Location                   Company_name  \\\n",
       "0            3 days ago       Bangalore              the fashion cosmo   \n",
       "1            4 days ago       Bangalore  te connectivity india pvt ltd   \n",
       "2            5 days ago       Bangalore              sap india pvt ltd   \n",
       "3   Premium\\n1 week ago       Bangalore                         inmobi   \n",
       "4            1 week ago  Bangalore\\n+17       kavya staffing solutions   \n",
       "5           2 weeks ago   Bangalore\\n+9             realtech solutions   \n",
       "6           2 weeks ago   Bangalore\\n+6                quiscon biotech   \n",
       "7  Premium\\n2 weeks ago       Bangalore                         amazon   \n",
       "8           3 weeks ago  Bangalore\\n+17       kavya staffing solutions   \n",
       "9   Premium\\n3 days ago       Bangalore                         amazon   \n",
       "\n",
       "  Exeperience  \n",
       "0  4 to 9 Yrs  \n",
       "1  2 to 5 Yrs  \n",
       "2   0 to 1 Yr  \n",
       "3  2 to 5 Yrs  \n",
       "4  0 to 2 Yrs  \n",
       "5  3 to 5 Yrs  \n",
       "6  4 to 6 Yrs  \n",
       "7  5 to 7 Yrs  \n",
       "8   0 to 1 Yr  \n",
       "9   0 to 1 Yr  "
      ]
     },
     "execution_count": 99,
     "metadata": {},
     "output_type": "execute_result"
    }
   ],
   "source": [
    "import pandas as pd \n",
    "\n",
    "df=pd.DataFrame({'Title':job_title[:10],'Location':job_location[:10],'Company_name':company_name[:10],'Exeperience':experience_required[:10]})\n",
    "\n",
    "df"
   ]
  },
  {
   "cell_type": "code",
   "execution_count": 185,
   "id": "982a6d28",
   "metadata": {},
   "outputs": [],
   "source": [
    "driver = webdriver.Chrome()"
   ]
  },
  {
   "cell_type": "code",
   "execution_count": 186,
   "id": "ee25a8b9",
   "metadata": {},
   "outputs": [],
   "source": [
    "driver.get(\"https://www.flipkart.com/\")"
   ]
  },
  {
   "cell_type": "code",
   "execution_count": 187,
   "id": "eb353dd8",
   "metadata": {},
   "outputs": [
    {
     "data": {
      "text/plain": [
       "<selenium.webdriver.remote.webelement.WebElement (session=\"b6155d0ec74c731359c614186ea4827f\", element=\"A78BD3138327D8B604A5970ED04643AD_element_1453\")>"
      ]
     },
     "execution_count": 187,
     "metadata": {},
     "output_type": "execute_result"
    }
   ],
   "source": [
    "search_g= driver.find_element(By.XPATH,('//input[@class=\"Pke_EE\"]'))\n",
    "search_g"
   ]
  },
  {
   "cell_type": "code",
   "execution_count": 188,
   "id": "d7a3f360",
   "metadata": {},
   "outputs": [],
   "source": [
    "search_g.send_keys('sunglasses')"
   ]
  },
  {
   "cell_type": "code",
   "execution_count": 189,
   "id": "b63b7d74",
   "metadata": {},
   "outputs": [
    {
     "data": {
      "text/plain": [
       "<selenium.webdriver.remote.webelement.WebElement (session=\"b6155d0ec74c731359c614186ea4827f\", element=\"A78BD3138327D8B604A5970ED04643AD_element_1450\")>"
      ]
     },
     "execution_count": 189,
     "metadata": {},
     "output_type": "execute_result"
    }
   ],
   "source": [
    "search_btn=driver.find_element(By.XPATH,('//button[@class=\"_2iLD__\"]'))\n",
    "search_btn"
   ]
  },
  {
   "cell_type": "code",
   "execution_count": 190,
   "id": "defdfa69",
   "metadata": {},
   "outputs": [],
   "source": [
    "brand_name=[]\n",
    "product_des=[]\n",
    "price=[]"
   ]
  },
  {
   "cell_type": "code",
   "execution_count": 191,
   "id": "0896fef2",
   "metadata": {},
   "outputs": [],
   "source": [
    "brand_tags=driver.find_elements(By.XPATH,'//div[@class=\"_2WkVRV\"]') \n",
    "for i in brand_tags:\n",
    "    title=i.text\n",
    "    brand_name.append(title)   \n",
    "    \n",
    "# Scraping job Location from the given page \n",
    "product_tags=driver.find_elements(By.XPATH,'//a[@class=\"IRpwTa\"]')\n",
    "for i in product_tags:\n",
    "    product=i.text\n",
    "    product_des.append(product)\n",
    "    \n",
    "# Scraping the company name from the given page. \n",
    "price_tags=driver.find_elements(By.XPATH,'//div[@class=\"_30jeq3\"]')\n",
    "for i in price_tags:\n",
    "    price=i.text\n",
    "    price.append(price)\n",
    "    "
   ]
  },
  {
   "cell_type": "code",
   "execution_count": 192,
   "id": "c6f39f48",
   "metadata": {},
   "outputs": [
    {
     "name": "stdout",
     "output_type": "stream",
     "text": [
      "0 0 0\n"
     ]
    }
   ],
   "source": [
    "print(len(brand_name),len(product_des),len(price))"
   ]
  },
  {
   "cell_type": "code",
   "execution_count": 194,
   "id": "439f4ca8",
   "metadata": {},
   "outputs": [
    {
     "data": {
      "text/html": [
       "<div>\n",
       "<style scoped>\n",
       "    .dataframe tbody tr th:only-of-type {\n",
       "        vertical-align: middle;\n",
       "    }\n",
       "\n",
       "    .dataframe tbody tr th {\n",
       "        vertical-align: top;\n",
       "    }\n",
       "\n",
       "    .dataframe thead th {\n",
       "        text-align: right;\n",
       "    }\n",
       "</style>\n",
       "<table border=\"1\" class=\"dataframe\">\n",
       "  <thead>\n",
       "    <tr style=\"text-align: right;\">\n",
       "      <th></th>\n",
       "      <th>Brand</th>\n",
       "      <th>Product Description</th>\n",
       "      <th>Price</th>\n",
       "    </tr>\n",
       "  </thead>\n",
       "  <tbody>\n",
       "  </tbody>\n",
       "</table>\n",
       "</div>"
      ],
      "text/plain": [
       "Empty DataFrame\n",
       "Columns: [Brand, Product Description, Price]\n",
       "Index: []"
      ]
     },
     "execution_count": 194,
     "metadata": {},
     "output_type": "execute_result"
    }
   ],
   "source": [
    "import pandas as pd \n",
    "\n",
    "df=pd.DataFrame({'Brand':brand_name,'Product Description':product_des,'Price':price})\n",
    "\n",
    "df"
   ]
  },
  {
   "cell_type": "code",
   "execution_count": 195,
   "id": "5cb92be4",
   "metadata": {},
   "outputs": [
    {
     "name": "stdout",
     "output_type": "stream",
     "text": [
      "Requirement already satisfied: bs4 in c:\\users\\mayank\\anaconda3\\lib\\site-packages (0.0.1)\n",
      "Requirement already satisfied: beautifulsoup4 in c:\\users\\mayank\\anaconda3\\lib\\site-packages (from bs4) (4.11.1)\n",
      "Requirement already satisfied: soupsieve>1.2 in c:\\users\\mayank\\anaconda3\\lib\\site-packages (from beautifulsoup4->bs4) (2.3.1)\n",
      "Requirement already satisfied: requests in c:\\users\\mayank\\anaconda3\\lib\\site-packages (2.28.1)\n",
      "Requirement already satisfied: charset-normalizer<3,>=2 in c:\\users\\mayank\\anaconda3\\lib\\site-packages (from requests) (2.0.4)\n",
      "Requirement already satisfied: urllib3<1.27,>=1.21.1 in c:\\users\\mayank\\anaconda3\\lib\\site-packages (from requests) (1.26.11)\n",
      "Requirement already satisfied: idna<4,>=2.5 in c:\\users\\mayank\\anaconda3\\lib\\site-packages (from requests) (3.3)\n",
      "Requirement already satisfied: certifi>=2017.4.17 in c:\\users\\mayank\\anaconda3\\lib\\site-packages (from requests) (2022.9.14)\n"
     ]
    }
   ],
   "source": [
    "!pip install bs4\n",
    "!pip install requests "
   ]
  },
  {
   "cell_type": "code",
   "execution_count": 196,
   "id": "7792635d",
   "metadata": {},
   "outputs": [],
   "source": [
    "from bs4 import BeautifulSoup\n",
    "import requests "
   ]
  },
  {
   "cell_type": "code",
   "execution_count": 198,
   "id": "273a20be",
   "metadata": {},
   "outputs": [
    {
     "data": {
      "text/plain": [
       "<Response [404]>"
      ]
     },
     "execution_count": 198,
     "metadata": {},
     "output_type": "execute_result"
    }
   ],
   "source": [
    "page = requests.get('https://www.flipkart.com/apple-iphone-11-black-64-gb/product reviews/itm4e5041ba101fd?pid=MOBFWQ6BXGJCEYNY&lid=LSTMOBFWQ6BXGJCEYNYZXSHRJ&market place=FLIPKART')\n",
    "\n",
    "page"
   ]
  },
  {
   "cell_type": "code",
   "execution_count": 201,
   "id": "96c1d225",
   "metadata": {},
   "outputs": [],
   "source": [
    "driver = webdriver.Chrome()"
   ]
  },
  {
   "cell_type": "code",
   "execution_count": 202,
   "id": "5be424c1",
   "metadata": {},
   "outputs": [],
   "source": [
    "driver.get(\"https://www.flipkart.com/\")"
   ]
  },
  {
   "cell_type": "code",
   "execution_count": 203,
   "id": "50502430",
   "metadata": {},
   "outputs": [
    {
     "data": {
      "text/plain": [
       "<selenium.webdriver.remote.webelement.WebElement (session=\"f70e0039744199ff0c44deb26a3c5b55\", element=\"CF3ACC2AD5CA45CF49A58C85E4BB7CDC_element_1441\")>"
      ]
     },
     "execution_count": 203,
     "metadata": {},
     "output_type": "execute_result"
    }
   ],
   "source": [
    "search_g= driver.find_element(By.XPATH,('//input[@class=\"Pke_EE\"]'))\n",
    "search_g"
   ]
  },
  {
   "cell_type": "code",
   "execution_count": 204,
   "id": "6bc56c1f",
   "metadata": {},
   "outputs": [],
   "source": [
    "search_g.send_keys('sneakers')"
   ]
  },
  {
   "cell_type": "code",
   "execution_count": 207,
   "id": "d6124d80",
   "metadata": {},
   "outputs": [],
   "source": [
    "search=driver.find_element(By.CLASS_NAME,\"_2iLD__\")\n",
    "search.click()                             "
   ]
  },
  {
   "cell_type": "code",
   "execution_count": 208,
   "id": "782b8e38",
   "metadata": {},
   "outputs": [],
   "source": [
    "brand_name=[]\n",
    "product_des=[]\n",
    "price=[]"
   ]
  },
  {
   "cell_type": "code",
   "execution_count": 212,
   "id": "c784bb34",
   "metadata": {},
   "outputs": [
    {
     "ename": "WebDriverException",
     "evalue": "Message: disconnected: not connected to DevTools\n  (failed to check if window was closed: disconnected: not connected to DevTools)\n  (Session info: chrome=116.0.5845.188)\nStacktrace:\n\tGetHandleVerifier [0x00007FF7080B52A2+57122]\n\t(No symbol) [0x00007FF70802EA92]\n\t(No symbol) [0x00007FF707EFE3AB]\n\t(No symbol) [0x00007FF707EEBA47]\n\t(No symbol) [0x00007FF707EEB6C0]\n\t(No symbol) [0x00007FF707EFFA71]\n\t(No symbol) [0x00007FF707F6E27F]\n\t(No symbol) [0x00007FF707F56DB3]\n\t(No symbol) [0x00007FF707F2D2B1]\n\t(No symbol) [0x00007FF707F2E494]\n\tGetHandleVerifier [0x00007FF70835EF82+2849794]\n\tGetHandleVerifier [0x00007FF7083B1D24+3189156]\n\tGetHandleVerifier [0x00007FF7083AACAF+3160367]\n\tGetHandleVerifier [0x00007FF708146D06+653702]\n\t(No symbol) [0x00007FF70803A208]\n\t(No symbol) [0x00007FF7080362C4]\n\t(No symbol) [0x00007FF7080363F6]\n\t(No symbol) [0x00007FF7080267A3]\n\tBaseThreadInitThunk [0x00007FFEB062257D+29]\n\tRtlUserThreadStart [0x00007FFEB11AAA68+40]\n",
     "output_type": "error",
     "traceback": [
      "\u001b[1;31m---------------------------------------------------------------------------\u001b[0m",
      "\u001b[1;31mWebDriverException\u001b[0m                        Traceback (most recent call last)",
      "\u001b[1;32m~\\AppData\\Local\\Temp\\ipykernel_12896\\3404503038.py\u001b[0m in \u001b[0;36m<module>\u001b[1;34m\u001b[0m\n\u001b[1;32m----> 1\u001b[1;33m \u001b[0mbrand_tags\u001b[0m\u001b[1;33m=\u001b[0m\u001b[0mdriver\u001b[0m\u001b[1;33m.\u001b[0m\u001b[0mfind_elements\u001b[0m\u001b[1;33m(\u001b[0m\u001b[0mBy\u001b[0m\u001b[1;33m.\u001b[0m\u001b[0mXPATH\u001b[0m\u001b[1;33m,\u001b[0m\u001b[1;34m'//div[@class=\"_2WkVRV\"]'\u001b[0m\u001b[1;33m)\u001b[0m\u001b[1;33m\u001b[0m\u001b[1;33m\u001b[0m\u001b[0m\n\u001b[0m\u001b[0;32m      2\u001b[0m \u001b[1;32mfor\u001b[0m \u001b[0mi\u001b[0m \u001b[1;32min\u001b[0m \u001b[0mbrand_tags\u001b[0m\u001b[1;33m:\u001b[0m\u001b[1;33m\u001b[0m\u001b[1;33m\u001b[0m\u001b[0m\n\u001b[0;32m      3\u001b[0m     \u001b[0mbrand\u001b[0m\u001b[1;33m=\u001b[0m\u001b[0mi\u001b[0m\u001b[1;33m.\u001b[0m\u001b[0mtext\u001b[0m\u001b[1;33m\u001b[0m\u001b[1;33m\u001b[0m\u001b[0m\n\u001b[0;32m      4\u001b[0m     \u001b[0mbrand_name\u001b[0m\u001b[1;33m.\u001b[0m\u001b[0mappend\u001b[0m\u001b[1;33m(\u001b[0m\u001b[0mbrand\u001b[0m\u001b[1;33m)\u001b[0m\u001b[1;33m\u001b[0m\u001b[1;33m\u001b[0m\u001b[0m\n\u001b[0;32m      5\u001b[0m \u001b[1;33m\u001b[0m\u001b[0m\n",
      "\u001b[1;32m~\\anaconda3\\lib\\site-packages\\selenium\\webdriver\\remote\\webdriver.py\u001b[0m in \u001b[0;36mfind_elements\u001b[1;34m(self, by, value)\u001b[0m\n\u001b[0;32m    766\u001b[0m         \u001b[1;31m# Return empty list if driver returns null\u001b[0m\u001b[1;33m\u001b[0m\u001b[1;33m\u001b[0m\u001b[0m\n\u001b[0;32m    767\u001b[0m         \u001b[1;31m# See https://github.com/SeleniumHQ/selenium/issues/4555\u001b[0m\u001b[1;33m\u001b[0m\u001b[1;33m\u001b[0m\u001b[0m\n\u001b[1;32m--> 768\u001b[1;33m         \u001b[1;32mreturn\u001b[0m \u001b[0mself\u001b[0m\u001b[1;33m.\u001b[0m\u001b[0mexecute\u001b[0m\u001b[1;33m(\u001b[0m\u001b[0mCommand\u001b[0m\u001b[1;33m.\u001b[0m\u001b[0mFIND_ELEMENTS\u001b[0m\u001b[1;33m,\u001b[0m \u001b[1;33m{\u001b[0m\u001b[1;34m\"using\"\u001b[0m\u001b[1;33m:\u001b[0m \u001b[0mby\u001b[0m\u001b[1;33m,\u001b[0m \u001b[1;34m\"value\"\u001b[0m\u001b[1;33m:\u001b[0m \u001b[0mvalue\u001b[0m\u001b[1;33m}\u001b[0m\u001b[1;33m)\u001b[0m\u001b[1;33m[\u001b[0m\u001b[1;34m\"value\"\u001b[0m\u001b[1;33m]\u001b[0m \u001b[1;32mor\u001b[0m \u001b[1;33m[\u001b[0m\u001b[1;33m]\u001b[0m\u001b[1;33m\u001b[0m\u001b[1;33m\u001b[0m\u001b[0m\n\u001b[0m\u001b[0;32m    769\u001b[0m \u001b[1;33m\u001b[0m\u001b[0m\n\u001b[0;32m    770\u001b[0m     \u001b[1;33m@\u001b[0m\u001b[0mproperty\u001b[0m\u001b[1;33m\u001b[0m\u001b[1;33m\u001b[0m\u001b[0m\n",
      "\u001b[1;32m~\\anaconda3\\lib\\site-packages\\selenium\\webdriver\\remote\\webdriver.py\u001b[0m in \u001b[0;36mexecute\u001b[1;34m(self, driver_command, params)\u001b[0m\n\u001b[0;32m    342\u001b[0m         \u001b[0mresponse\u001b[0m \u001b[1;33m=\u001b[0m \u001b[0mself\u001b[0m\u001b[1;33m.\u001b[0m\u001b[0mcommand_executor\u001b[0m\u001b[1;33m.\u001b[0m\u001b[0mexecute\u001b[0m\u001b[1;33m(\u001b[0m\u001b[0mdriver_command\u001b[0m\u001b[1;33m,\u001b[0m \u001b[0mparams\u001b[0m\u001b[1;33m)\u001b[0m\u001b[1;33m\u001b[0m\u001b[1;33m\u001b[0m\u001b[0m\n\u001b[0;32m    343\u001b[0m         \u001b[1;32mif\u001b[0m \u001b[0mresponse\u001b[0m\u001b[1;33m:\u001b[0m\u001b[1;33m\u001b[0m\u001b[1;33m\u001b[0m\u001b[0m\n\u001b[1;32m--> 344\u001b[1;33m             \u001b[0mself\u001b[0m\u001b[1;33m.\u001b[0m\u001b[0merror_handler\u001b[0m\u001b[1;33m.\u001b[0m\u001b[0mcheck_response\u001b[0m\u001b[1;33m(\u001b[0m\u001b[0mresponse\u001b[0m\u001b[1;33m)\u001b[0m\u001b[1;33m\u001b[0m\u001b[1;33m\u001b[0m\u001b[0m\n\u001b[0m\u001b[0;32m    345\u001b[0m             \u001b[0mresponse\u001b[0m\u001b[1;33m[\u001b[0m\u001b[1;34m\"value\"\u001b[0m\u001b[1;33m]\u001b[0m \u001b[1;33m=\u001b[0m \u001b[0mself\u001b[0m\u001b[1;33m.\u001b[0m\u001b[0m_unwrap_value\u001b[0m\u001b[1;33m(\u001b[0m\u001b[0mresponse\u001b[0m\u001b[1;33m.\u001b[0m\u001b[0mget\u001b[0m\u001b[1;33m(\u001b[0m\u001b[1;34m\"value\"\u001b[0m\u001b[1;33m,\u001b[0m \u001b[1;32mNone\u001b[0m\u001b[1;33m)\u001b[0m\u001b[1;33m)\u001b[0m\u001b[1;33m\u001b[0m\u001b[1;33m\u001b[0m\u001b[0m\n\u001b[0;32m    346\u001b[0m             \u001b[1;32mreturn\u001b[0m \u001b[0mresponse\u001b[0m\u001b[1;33m\u001b[0m\u001b[1;33m\u001b[0m\u001b[0m\n",
      "\u001b[1;32m~\\anaconda3\\lib\\site-packages\\selenium\\webdriver\\remote\\errorhandler.py\u001b[0m in \u001b[0;36mcheck_response\u001b[1;34m(self, response)\u001b[0m\n\u001b[0;32m    227\u001b[0m                 \u001b[0malert_text\u001b[0m \u001b[1;33m=\u001b[0m \u001b[0mvalue\u001b[0m\u001b[1;33m[\u001b[0m\u001b[1;34m\"alert\"\u001b[0m\u001b[1;33m]\u001b[0m\u001b[1;33m.\u001b[0m\u001b[0mget\u001b[0m\u001b[1;33m(\u001b[0m\u001b[1;34m\"text\"\u001b[0m\u001b[1;33m)\u001b[0m\u001b[1;33m\u001b[0m\u001b[1;33m\u001b[0m\u001b[0m\n\u001b[0;32m    228\u001b[0m             \u001b[1;32mraise\u001b[0m \u001b[0mexception_class\u001b[0m\u001b[1;33m(\u001b[0m\u001b[0mmessage\u001b[0m\u001b[1;33m,\u001b[0m \u001b[0mscreen\u001b[0m\u001b[1;33m,\u001b[0m \u001b[0mstacktrace\u001b[0m\u001b[1;33m,\u001b[0m \u001b[0malert_text\u001b[0m\u001b[1;33m)\u001b[0m  \u001b[1;31m# type: ignore[call-arg]  # mypy is not smart enough here\u001b[0m\u001b[1;33m\u001b[0m\u001b[1;33m\u001b[0m\u001b[0m\n\u001b[1;32m--> 229\u001b[1;33m         \u001b[1;32mraise\u001b[0m \u001b[0mexception_class\u001b[0m\u001b[1;33m(\u001b[0m\u001b[0mmessage\u001b[0m\u001b[1;33m,\u001b[0m \u001b[0mscreen\u001b[0m\u001b[1;33m,\u001b[0m \u001b[0mstacktrace\u001b[0m\u001b[1;33m)\u001b[0m\u001b[1;33m\u001b[0m\u001b[1;33m\u001b[0m\u001b[0m\n\u001b[0m",
      "\u001b[1;31mWebDriverException\u001b[0m: Message: disconnected: not connected to DevTools\n  (failed to check if window was closed: disconnected: not connected to DevTools)\n  (Session info: chrome=116.0.5845.188)\nStacktrace:\n\tGetHandleVerifier [0x00007FF7080B52A2+57122]\n\t(No symbol) [0x00007FF70802EA92]\n\t(No symbol) [0x00007FF707EFE3AB]\n\t(No symbol) [0x00007FF707EEBA47]\n\t(No symbol) [0x00007FF707EEB6C0]\n\t(No symbol) [0x00007FF707EFFA71]\n\t(No symbol) [0x00007FF707F6E27F]\n\t(No symbol) [0x00007FF707F56DB3]\n\t(No symbol) [0x00007FF707F2D2B1]\n\t(No symbol) [0x00007FF707F2E494]\n\tGetHandleVerifier [0x00007FF70835EF82+2849794]\n\tGetHandleVerifier [0x00007FF7083B1D24+3189156]\n\tGetHandleVerifier [0x00007FF7083AACAF+3160367]\n\tGetHandleVerifier [0x00007FF708146D06+653702]\n\t(No symbol) [0x00007FF70803A208]\n\t(No symbol) [0x00007FF7080362C4]\n\t(No symbol) [0x00007FF7080363F6]\n\t(No symbol) [0x00007FF7080267A3]\n\tBaseThreadInitThunk [0x00007FFEB062257D+29]\n\tRtlUserThreadStart [0x00007FFEB11AAA68+40]\n"
     ]
    }
   ],
   "source": [
    "brand_tags=driver.find_elements(By.XPATH,'//div[@class=\"_2WkVRV\"]')  \n",
    "for i in brand_tags:\n",
    "    brand=i.text\n",
    "    brand_name.append(brand)\n",
    "     \n",
    "product_tags=driver.find_elements(By.XPATH,'//a[@class=\"IRpwTa _2-ICcC\"]')\n",
    "for i in product_tags:\n",
    "    product=i.text\n",
    "    product_des.append(product)\n",
    "     \n",
    "price_tags=driver.find_elements(By.XPATH,'//div[@class=\"_30jeq3\"]')\n",
    "for i in price_tags:\n",
    "    price=i.text\n",
    "    price.append(price)"
   ]
  },
  {
   "cell_type": "code",
   "execution_count": 213,
   "id": "c67ada12",
   "metadata": {},
   "outputs": [],
   "source": [
    "driver = webdriver.Chrome()"
   ]
  },
  {
   "cell_type": "code",
   "execution_count": 214,
   "id": "226902ed",
   "metadata": {},
   "outputs": [],
   "source": [
    "url=\" https://www.amazon.in \"\n",
    "driver.get(url)"
   ]
  },
  {
   "cell_type": "code",
   "execution_count": 215,
   "id": "02b530c9",
   "metadata": {},
   "outputs": [
    {
     "data": {
      "text/plain": [
       "<selenium.webdriver.remote.webelement.WebElement (session=\"48177f8853720e3303cb8ade0d9cd1d2\", element=\"D80E9A0A91B7FED968C60981ECCDC611_element_88\")>"
      ]
     },
     "execution_count": 215,
     "metadata": {},
     "output_type": "execute_result"
    }
   ],
   "source": [
    "search_g= driver.find_element(By.XPATH,('//input[@type=\"text\"]'))\n",
    "search_g                           "
   ]
  },
  {
   "cell_type": "code",
   "execution_count": 216,
   "id": "39441ce3",
   "metadata": {},
   "outputs": [],
   "source": [
    "search_g.send_keys('Laptop')"
   ]
  },
  {
   "cell_type": "code",
   "execution_count": 217,
   "id": "745b7d63",
   "metadata": {},
   "outputs": [],
   "source": [
    "search_btn=driver.find_element(By.XPATH,(\"//input[@id='nav-search-submit-button']\"))\n",
    "search_btn.click()"
   ]
  },
  {
   "cell_type": "code",
   "execution_count": 218,
   "id": "8da5391c",
   "metadata": {},
   "outputs": [],
   "source": [
    "Title=[]\n",
    "Price=[]\n",
    "Rating=[]"
   ]
  },
  {
   "cell_type": "code",
   "execution_count": 221,
   "id": "f3c926e0",
   "metadata": {},
   "outputs": [
    {
     "ename": "NameError",
     "evalue": "name 'P_desc' is not defined",
     "output_type": "error",
     "traceback": [
      "\u001b[1;31m---------------------------------------------------------------------------\u001b[0m",
      "\u001b[1;31mNameError\u001b[0m                                 Traceback (most recent call last)",
      "\u001b[1;32m~\\AppData\\Local\\Temp\\ipykernel_12896\\4129642690.py\u001b[0m in \u001b[0;36m<module>\u001b[1;34m\u001b[0m\n\u001b[0;32m     13\u001b[0m     \u001b[1;32mfor\u001b[0m \u001b[0mk\u001b[0m \u001b[1;32min\u001b[0m \u001b[0mp_desc\u001b[0m\u001b[1;33m:\u001b[0m\u001b[1;33m\u001b[0m\u001b[1;33m\u001b[0m\u001b[0m\n\u001b[0;32m     14\u001b[0m         \u001b[0mP_desc\u001b[0m\u001b[1;33m.\u001b[0m\u001b[0mappend\u001b[0m\u001b[1;33m(\u001b[0m\u001b[0mk\u001b[0m\u001b[1;33m.\u001b[0m\u001b[0mtext\u001b[0m\u001b[1;33m)\u001b[0m\u001b[1;33m\u001b[0m\u001b[1;33m\u001b[0m\u001b[0m\n\u001b[1;32m---> 15\u001b[1;33m     \u001b[0mP_desc\u001b[0m\u001b[1;33m[\u001b[0m\u001b[1;33m:\u001b[0m\u001b[1;36m100\u001b[0m\u001b[1;33m]\u001b[0m\u001b[1;33m\u001b[0m\u001b[1;33m\u001b[0m\u001b[0m\n\u001b[0m\u001b[0;32m     16\u001b[0m \u001b[1;33m\u001b[0m\u001b[0m\n\u001b[0;32m     17\u001b[0m \u001b[1;33m\u001b[0m\u001b[0m\n",
      "\u001b[1;31mNameError\u001b[0m: name 'P_desc' is not defined"
     ]
    }
   ],
   "source": [
    "for i in range(3):\n",
    "    b_name=driver.find_elements(By.XPATH,(\"//div[@class='_2WkVRV']\"))\n",
    "    p_desc=driver.find_elements(By.XPATH,(\"//a[@class='IRpwTa']\"))\n",
    "    price =driver.find_elements(By.XPATH,(\"//div[@class='_25b18c']\"))\n",
    "    \n",
    "    \n",
    "    for j  in b_name:\n",
    "        Title.append(j.text)\n",
    "    Title[:100]    \n",
    "    \n",
    "    \n",
    "    \n",
    "    for k in p_desc:\n",
    "        P_desc.append(k.text)\n",
    "    P_desc[:100] \n",
    "    \n",
    "    \n",
    "    for l in price:\n",
    "        Price.append(l.text)\n",
    "    Price[:100] \n",
    "    "
   ]
  },
  {
   "cell_type": "code",
   "execution_count": 222,
   "id": "9e359507",
   "metadata": {},
   "outputs": [
    {
     "data": {
      "text/plain": [
       "<Response [200]>"
      ]
     },
     "execution_count": 222,
     "metadata": {},
     "output_type": "execute_result"
    }
   ],
   "source": [
    "page = requests.get('https://www.azquotes.com/')\n",
    "page"
   ]
  },
  {
   "cell_type": "code",
   "execution_count": 1,
   "id": "edb6e81d",
   "metadata": {},
   "outputs": [],
   "source": [
    "#import all the required libraries\n",
    "import pandas as pd\n",
    "import selenium\n",
    "from selenium import webdriver\n",
    "from selenium.common.exceptions import StaleElementReferenceException, NoSuchElementException\n",
    "import time\n",
    "import re\n",
    "from selenium.webdriver.common.by import By"
   ]
  },
  {
   "cell_type": "code",
   "execution_count": 3,
   "id": "917640c0",
   "metadata": {},
   "outputs": [],
   "source": [
    "driver = webdriver.Chrome()"
   ]
  },
  {
   "cell_type": "code",
   "execution_count": 4,
   "id": "8f838dd5",
   "metadata": {},
   "outputs": [],
   "source": [
    "url=\"https://www.digit.in/top-products/best-gaming-laptops-40.html\""
   ]
  },
  {
   "cell_type": "code",
   "execution_count": 5,
   "id": "320704a4",
   "metadata": {},
   "outputs": [],
   "source": [
    "driver.get(url)"
   ]
  },
  {
   "cell_type": "code",
   "execution_count": 6,
   "id": "cddde88e",
   "metadata": {},
   "outputs": [],
   "source": [
    "Brands=[]\n",
    "Products_Description=[]"
   ]
  },
  {
   "cell_type": "code",
   "execution_count": 8,
   "id": "f2c3a512",
   "metadata": {},
   "outputs": [
    {
     "data": {
      "text/plain": [
       "7"
      ]
     },
     "execution_count": 8,
     "metadata": {},
     "output_type": "execute_result"
    }
   ],
   "source": [
    "br=driver.find_elements(By.XPATH,'//div[@class=\"rh_gr_top_middle mb10 colored_rate_bar\"]')\n",
    "len(br)"
   ]
  },
  {
   "cell_type": "code",
   "execution_count": 9,
   "id": "65737528",
   "metadata": {},
   "outputs": [
    {
     "data": {
      "text/plain": [
       "['HP Omen 17-ck2008TX 13th Gen Core i7-13700HX',\n",
       " 'MSI GT77 Titan 12UHS-054IN 12th Gen Core i9-12900HX',\n",
       " 'Lenovo Legion 5i Pro 12th Gen Core i7-12700H (82RF00E1IN)',\n",
       " 'ASUS ROG Strix Scar 18 G834JZ-N5041WS 13th Gen Core i9-13980HX',\n",
       " 'Acer Predator Helios Neo 16 13th Gen Core i7-13700HX (PHN16-71)',\n",
       " 'ASUS ROG Zephyrus G14 Ryzen 9-6900HS (GA402RJZ-L4136WS)',\n",
       " 'MSI Cyborg 15 12th Gen Core i7-12650H (A12VF-205IN)']"
      ]
     },
     "execution_count": 9,
     "metadata": {},
     "output_type": "execute_result"
    }
   ],
   "source": [
    "for i in br:\n",
    "   \n",
    "    Brands.append(str(i.text).replace(\"\\n\",\"\"))\n",
    "Brands"
   ]
  },
  {
   "cell_type": "code",
   "execution_count": 11,
   "id": "17090fb5",
   "metadata": {},
   "outputs": [
    {
     "data": {
      "text/plain": [
       "7"
      ]
     },
     "execution_count": 11,
     "metadata": {},
     "output_type": "execute_result"
    }
   ],
   "source": [
    "sp=driver.find_elements(By.XPATH,'//h3[@class=\"font130 mt0 mb10 mobilesblockdisplay \"]')\n",
    "len(sp)"
   ]
  },
  {
   "cell_type": "code",
   "execution_count": 12,
   "id": "c058c96c",
   "metadata": {},
   "outputs": [
    {
     "data": {
      "text/plain": [
       "['HP Omen 17-ck2008TX 13th Gen Core i7-13700HX',\n",
       " 'MSI GT77 Titan 12UHS-054IN 12th Gen Core i9-12900HX',\n",
       " 'Lenovo Legion 5i Pro 12th Gen Core i7-12700H (82RF00E1IN)',\n",
       " 'ASUS ROG Strix Scar 18 G834JZ-N5041WS 13th Gen Core i9-13980HX',\n",
       " 'Acer Predator Helios Neo 16 13th Gen Core i7-13700HX (PHN16-71)',\n",
       " 'ASUS ROG Zephyrus G14 Ryzen 9-6900HS (GA402RJZ-L4136WS)',\n",
       " 'MSI Cyborg 15 12th Gen Core i7-12650H (A12VF-205IN)']"
      ]
     },
     "execution_count": 12,
     "metadata": {},
     "output_type": "execute_result"
    }
   ],
   "source": [
    "for i in sp:\n",
    "   \n",
    "    Specification.append(str(i.text).replace(\"\\n\",\"\"))\n",
    "Specification"
   ]
  },
  {
   "cell_type": "code",
   "execution_count": 13,
   "id": "e1ed6b6e",
   "metadata": {},
   "outputs": [
    {
     "data": {
      "text/html": [
       "<div>\n",
       "<style scoped>\n",
       "    .dataframe tbody tr th:only-of-type {\n",
       "        vertical-align: middle;\n",
       "    }\n",
       "\n",
       "    .dataframe tbody tr th {\n",
       "        vertical-align: top;\n",
       "    }\n",
       "\n",
       "    .dataframe thead th {\n",
       "        text-align: right;\n",
       "    }\n",
       "</style>\n",
       "<table border=\"1\" class=\"dataframe\">\n",
       "  <thead>\n",
       "    <tr style=\"text-align: right;\">\n",
       "      <th></th>\n",
       "      <th>Brands</th>\n",
       "      <th>Specification</th>\n",
       "    </tr>\n",
       "  </thead>\n",
       "  <tbody>\n",
       "    <tr>\n",
       "      <th>0</th>\n",
       "      <td>HP Omen 17-ck2008TX 13th Gen Core i7-13700HX</td>\n",
       "      <td>HP Omen 17-ck2008TX 13th Gen Core i7-13700HX</td>\n",
       "    </tr>\n",
       "    <tr>\n",
       "      <th>1</th>\n",
       "      <td>MSI GT77 Titan 12UHS-054IN 12th Gen Core i9-12...</td>\n",
       "      <td>MSI GT77 Titan 12UHS-054IN 12th Gen Core i9-12...</td>\n",
       "    </tr>\n",
       "    <tr>\n",
       "      <th>2</th>\n",
       "      <td>Lenovo Legion 5i Pro 12th Gen Core i7-12700H (...</td>\n",
       "      <td>Lenovo Legion 5i Pro 12th Gen Core i7-12700H (...</td>\n",
       "    </tr>\n",
       "    <tr>\n",
       "      <th>3</th>\n",
       "      <td>ASUS ROG Strix Scar 18 G834JZ-N5041WS 13th Gen...</td>\n",
       "      <td>ASUS ROG Strix Scar 18 G834JZ-N5041WS 13th Gen...</td>\n",
       "    </tr>\n",
       "    <tr>\n",
       "      <th>4</th>\n",
       "      <td>Acer Predator Helios Neo 16 13th Gen Core i7-1...</td>\n",
       "      <td>Acer Predator Helios Neo 16 13th Gen Core i7-1...</td>\n",
       "    </tr>\n",
       "    <tr>\n",
       "      <th>5</th>\n",
       "      <td>ASUS ROG Zephyrus G14 Ryzen 9-6900HS (GA402RJZ...</td>\n",
       "      <td>ASUS ROG Zephyrus G14 Ryzen 9-6900HS (GA402RJZ...</td>\n",
       "    </tr>\n",
       "    <tr>\n",
       "      <th>6</th>\n",
       "      <td>MSI Cyborg 15 12th Gen Core i7-12650H (A12VF-2...</td>\n",
       "      <td>MSI Cyborg 15 12th Gen Core i7-12650H (A12VF-2...</td>\n",
       "    </tr>\n",
       "  </tbody>\n",
       "</table>\n",
       "</div>"
      ],
      "text/plain": [
       "                                              Brands  \\\n",
       "0       HP Omen 17-ck2008TX 13th Gen Core i7-13700HX   \n",
       "1  MSI GT77 Titan 12UHS-054IN 12th Gen Core i9-12...   \n",
       "2  Lenovo Legion 5i Pro 12th Gen Core i7-12700H (...   \n",
       "3  ASUS ROG Strix Scar 18 G834JZ-N5041WS 13th Gen...   \n",
       "4  Acer Predator Helios Neo 16 13th Gen Core i7-1...   \n",
       "5  ASUS ROG Zephyrus G14 Ryzen 9-6900HS (GA402RJZ...   \n",
       "6  MSI Cyborg 15 12th Gen Core i7-12650H (A12VF-2...   \n",
       "\n",
       "                                       Specification  \n",
       "0       HP Omen 17-ck2008TX 13th Gen Core i7-13700HX  \n",
       "1  MSI GT77 Titan 12UHS-054IN 12th Gen Core i9-12...  \n",
       "2  Lenovo Legion 5i Pro 12th Gen Core i7-12700H (...  \n",
       "3  ASUS ROG Strix Scar 18 G834JZ-N5041WS 13th Gen...  \n",
       "4  Acer Predator Helios Neo 16 13th Gen Core i7-1...  \n",
       "5  ASUS ROG Zephyrus G14 Ryzen 9-6900HS (GA402RJZ...  \n",
       "6  MSI Cyborg 15 12th Gen Core i7-12650H (A12VF-2...  "
      ]
     },
     "execution_count": 13,
     "metadata": {},
     "output_type": "execute_result"
    }
   ],
   "source": [
    "digit_lap=pd.DataFrame([])\n",
    "digit_lap['Brands']=Brands[0:7]\n",
    "digit_lap['Specification']=Specification[0:7]\n",
    "digit_lap"
   ]
  },
  {
   "cell_type": "code",
   "execution_count": 14,
   "id": "e2267ae0",
   "metadata": {},
   "outputs": [],
   "source": [
    "driver = webdriver.Chrome()"
   ]
  },
  {
   "cell_type": "code",
   "execution_count": 16,
   "id": "a143e49d",
   "metadata": {},
   "outputs": [
    {
     "name": "stdout",
     "output_type": "stream",
     "text": [
      "Enter City Name : New Delhi\n",
      "URL Extracted:  https://www.google.co.in/maps/place/New+Delhi,+Delhi/@28.5272527,77.0441695,11z/data=!3m1!4b1!4m6!3m5!1s0x390cfd5b347eb62d:0x52c2b7494e204dce!8m2!3d28.6139391!4d77.2090212!16zL20vMGRsdjA?entry=ttu\n",
      "Latitude = 28.5272527, Longitude = 77.0441695\n"
     ]
    }
   ],
   "source": [
    "\n",
    "driver.get(\"https://www.google.co.in/maps\")\n",
    "time.sleep(3)\n",
    "\n",
    "city = input('Enter City Name : ')                                        \n",
    "search = driver.find_element(By.ID,\"searchboxinput\")                      \n",
    "search.clear()                                                            \n",
    "time.sleep(2)\n",
    "search.send_keys(city)                                                    \n",
    "button = driver.find_element(By.ID,\"searchbox-searchbutton\")              \n",
    "button.click()                                                            \n",
    "time.sleep(3)\n",
    "\n",
    "try:\n",
    "    url_string = driver.current_url\n",
    "    print(\"URL Extracted: \", url_string)\n",
    "    lat_lng = re.findall(r'@(.*)data',url_string)\n",
    "    if len(lat_lng):\n",
    "        lat_lng_list = lat_lng[0].split(\",\")\n",
    "        if len(lat_lng_list)>=2:\n",
    "            lat = lat_lng_list[0]\n",
    "            lng = lat_lng_list[1]\n",
    "        print(\"Latitude = {}, Longitude = {}\".format(lat, lng))\n",
    "\n",
    "except Exception as e:\n",
    "        print(\"Error: \", str(e))"
   ]
  },
  {
   "cell_type": "code",
   "execution_count": 17,
   "id": "e7861af8",
   "metadata": {},
   "outputs": [],
   "source": [
    "driver = webdriver.Chrome()"
   ]
  },
  {
   "cell_type": "code",
   "execution_count": 18,
   "id": "df5c5fd5",
   "metadata": {},
   "outputs": [],
   "source": [
    "url4=\"https://www.flipkart.com/search?q=smartphone&otracker=search&otracker1=search&marketplace=FLIPKART&as-show=on&as=off\"\n",
    "driver.get(url4)"
   ]
  },
  {
   "cell_type": "code",
   "execution_count": 19,
   "id": "7b02724d",
   "metadata": {},
   "outputs": [],
   "source": [
    "Brand_Name=[]\n",
    "Colour=[]\n",
    "Storage_RAM_ROM=[]\n",
    "P_F_Camera=[]\n",
    "ProcessorAndCores=[]\n",
    "Battery=[]\n",
    "Price=[]\n",
    "Product_URL=[]"
   ]
  },
  {
   "cell_type": "code",
   "execution_count": 20,
   "id": "dc9e62f7",
   "metadata": {},
   "outputs": [
    {
     "name": "stdout",
     "output_type": "stream",
     "text": [
      "24 ['MOTOROLA G32 (Mineral Gray, 128 GB)', 'SAMSUNG Galaxy F04 (Opal Green, 64 GB)', 'MOTOROLA Edge 40 Neo (Black Beauty, 256 GB)', 'MOTOROLA Edge 40 Neo (Caneel Bay, 256 GB)', 'OnePlus Nord CE 2 Lite 5G (Blue Tide, 128 GB)', 'MOTOROLA Edge 40 Neo (Black Beauty, 128 GB)', 'Infinix SMART 7 (Azure Blue, 64 GB)', 'SAMSUNG Galaxy F13 (Waterfall Blue, 64 GB)', 'POCO M5 (Icy Blue, 64 GB)', 'MOTOROLA e13 (Aurora Green, 64 GB)', 'Infinix SMART 7 (Emerald Green, 64 GB)', 'Infinix SMART 7 (Night Black, 64 GB)', 'Infinix SMART 7 (Azure Blue, 128 GB)', 'MOTOROLA G32 (Satin Silver, 128 GB)', 'MOTOROLA Edge 40 Neo (Caneel Bay, 128 GB)', 'SAMSUNG Galaxy F04 (Jade Purple, 64 GB)', 'MOTOROLA g84 5G (Viva Magneta, 256 GB)', 'MOTOROLA Edge 40 Neo (Soothing Sea, 256 GB)', 'SAMSUNG Galaxy F13 (Sunrise Copper, 64 GB)', 'Infinix Note 30 5G (Sunset Gold, 128 GB)', 'MOTOROLA e13 (Aurora Green, 128 GB)', 'OnePlus Nord CE 3 Lite 5G (Chromatic Gray, 256 GB)', 'OnePlus Nord CE 3 Lite 5G (Pastel Lime, 256 GB)', 'OnePlus Nord CE 3 Lite 5G (Chromatic Gray, 128 GB)']\n"
     ]
    }
   ],
   "source": [
    "BName=driver.find_elements(By.XPATH,\"//div[@class='_4rR01T']\")\n",
    "for i in BName:\n",
    "    if i.text is None :\n",
    "        Brand_Name.append(\"--\") \n",
    "    else:\n",
    "        Brand_Name.append(i.text)\n",
    "print(len(Brand_Name),Brand_Name)"
   ]
  },
  {
   "cell_type": "code",
   "execution_count": 21,
   "id": "837366c1",
   "metadata": {},
   "outputs": [
    {
     "name": "stdout",
     "output_type": "stream",
     "text": [
      "24 ['8 GB RAM | 128 GB ROM', '4 GB RAM | 64 GB ROM | Expandable Upto 1 TB', '12 GB RAM | 256 GB ROM', '12 GB RAM | 256 GB ROM', '6 GB RAM | 128 GB ROM', '8 GB RAM | 128 GB ROM', '4 GB RAM | 64 GB ROM | Expandable Upto 2 TB', '4 GB RAM | 64 GB ROM | Expandable Upto 1 TB', '4 GB RAM | 64 GB ROM | Expandable Upto 512 GB', '4 GB RAM | 64 GB ROM | Expandable Upto 1 TB', '4 GB RAM | 64 GB ROM | Expandable Upto 2 TB', '4 GB RAM | 64 GB ROM | Expandable Upto 2 TB', '4 GB RAM | 128 GB ROM | Expandable Upto 512 GB', '8 GB RAM | 128 GB ROM', '8 GB RAM | 128 GB ROM', '4 GB RAM | 64 GB ROM | Expandable Upto 1 TB', '12 GB RAM | 256 GB ROM', '12 GB RAM | 256 GB ROM', '4 GB RAM | 64 GB ROM | Expandable Upto 1 TB', '4 GB RAM | 128 GB ROM | Expandable Upto 2 TB', '8 GB RAM | 128 GB ROM | Expandable Upto 1 TB', '8 GB RAM | 256 GB ROM', '8 GB RAM | 256 GB ROM', '8 GB RAM | 128 GB ROM']\n"
     ]
    }
   ],
   "source": [
    "ram=driver.find_elements(By.XPATH,\"//ul[@class='_1xgFaf']//li[1]\")\n",
    "for i in ram:\n",
    "    if i.text is None :\n",
    "        Storage_RAM_ROM.append(\"--\") \n",
    "    else:\n",
    "        Storage_RAM_ROM.append(i.text)\n",
    "print(len(Storage_RAM_ROM),Storage_RAM_ROM)"
   ]
  },
  {
   "cell_type": "code",
   "execution_count": 22,
   "id": "ac2bea22",
   "metadata": {},
   "outputs": [
    {
     "name": "stdout",
     "output_type": "stream",
     "text": [
      "24 ['50MP + 8MP + 2MP | 16MP Front Camera', '13MP + 2MP | 5MP Front Camera', '50MP + 13MP | 32MP Front Camera', '50MP + 13MP | 32MP Front Camera', '64MP Rear Camera | 16MP Front Camera', '50MP + 13MP | 32MP Front Camera', '13MP + AI Lens | 5MP Front Camera', '50MP + 5MP + 2MP | 8MP Front Camera', '50MP + 2MP Depth Sensor + 2MP Macro Sensor | 8MP Front Camera', '13MP Rear Camera | 5MP Front Camera', '13MP + AI Lens | 5MP Front Camera', '13MP + AI Lens | 5MP Front Camera', '13MP + AI Lens | 5MP Front Camera', '50MP + 8MP + 2MP | 16MP Front Camera', '50MP + 13MP | 32MP Front Camera', '13MP + 2MP | 5MP Front Camera', '50MP (OIS) + 8MP | 16MP Front Camera', '50MP + 13MP | 32MP Front Camera', '50MP + 5MP + 2MP | 8MP Front Camera', '108 MP + 2 MP+ AI Lens | 16MP Front Camera', '13MP Rear Camera | 5MP Front Camera', '108MP Rear Camera', '108MP Rear Camera', '108MP Rear Camera']\n"
     ]
    }
   ],
   "source": [
    "PC=driver.find_elements(By.XPATH,\"//ul[@class='_1xgFaf']//li[3]\")\n",
    "for i in PC:\n",
    "    if i.text is None :\n",
    "        P_F_Camera.append(\"--\") \n",
    "    else:\n",
    "        P_F_Camera.append(i.text)\n",
    "print(len(P_F_Camera),P_F_Camera)"
   ]
  },
  {
   "cell_type": "code",
   "execution_count": 25,
   "id": "eed417d3",
   "metadata": {},
   "outputs": [
    {
     "name": "stdout",
     "output_type": "stream",
     "text": [
      "24 ['16.51 cm (6.5 inch) Full HD+ Display', '16.51 cm (6.5 inch) HD Display', '16.64 cm (6.55 inch) Full HD+ Display', '16.64 cm (6.55 inch) Full HD+ Display', '16.74 cm (6.59 inch) Display', '16.64 cm (6.55 inch) Full HD+ Display', '16.76 cm (6.6 inch) HD+ Display', '16.76 cm (6.6 inch) Full HD+ Display', '16.71 cm (6.58 inch) Full HD+ Display', '16.51 cm (6.5 inch) HD+ Display', '16.76 cm (6.6 inch) HD+ Display', '16.76 cm (6.6 inch) HD+ Display', '16.76 cm (6.6 inch) HD+ Display', '16.51 cm (6.5 inch) Full HD+ Display', '16.64 cm (6.55 inch) Full HD+ Display', '16.51 cm (6.5 inch) HD Display', '16.64 cm (6.55 inch) Full HD+ Display', '16.64 cm (6.55 inch) Full HD+ Display', '16.76 cm (6.6 inch) Full HD+ Display', '17.22 cm (6.78 inch) Full HD+ Display', '16.51 cm (6.5 inch) HD+ Display', '17.07 cm (6.72 inch) Display', '17.07 cm (6.72 inch) Display', '17.07 cm (6.72 inch) Display']\n"
     ]
    }
   ],
   "source": [
    "Display_size_Resolution=[]\n",
    "DS=driver.find_elements(By.XPATH,\"//ul[@class='_1xgFaf']//li[2]\")\n",
    "for i in DS:\n",
    "    if i.text is None :\n",
    "        Display_size_Resolution.append(\"--\") \n",
    "    else:\n",
    "        Display_size_Resolution.append(i.text)\n",
    "print(len(Display_size_Resolution),Display_size_Resolution)"
   ]
  },
  {
   "cell_type": "code",
   "execution_count": 26,
   "id": "4a896238",
   "metadata": {},
   "outputs": [
    {
     "name": "stdout",
     "output_type": "stream",
     "text": [
      "24 ['Qualcomm Snapdragon 680 Processor', 'Mediatek Helio P35 Processor', 'Dimensity 7030 Processor', 'Dimensity 7030 Processor', '12 Months', 'Dimensity 7030 Processor', 'Unisoc Spreadtrum SC9863A1 Processor', 'Exynos 850 Processor', 'Mediatek Helio G99 Processor', 'Unisoc T606 Processor', 'Unisoc Spreadtrum SC9863A1 Processor', 'Unisoc Spreadtrum SC9863A1 Processor', 'Unisoc Spreadtrum SC9863A1 Processor', 'Qualcomm Snapdragon 680 Processor', 'Dimensity 7030 Processor', 'Mediatek Helio P35 Processor', 'Snapdragon 695 Processor', 'Dimensity 7030 Processor', 'Exynos 850 Processor', 'Dimensity 6080 Processor', 'Unisoc T606 Processor', 'Domestic Warranty of 12 months on phone & 6 months on accessories', 'Domestic Warranty of 12 months on phone & 6 months on accessories', 'Domestic Warranty of 12 months on phone & 6 months on accessories']\n"
     ]
    }
   ],
   "source": [
    "P=driver.find_elements(By.XPATH,\"//ul[@class='_1xgFaf']//li[5]\")\n",
    "for i in P:\n",
    "    if i.text is None :\n",
    "        ProcessorAndCores.append(\"--\") \n",
    "    else:\n",
    "        ProcessorAndCores.append(i.text)\n",
    "print(len(ProcessorAndCores),ProcessorAndCores)"
   ]
  },
  {
   "cell_type": "code",
   "execution_count": 27,
   "id": "3cf54d61",
   "metadata": {},
   "outputs": [
    {
     "name": "stdout",
     "output_type": "stream",
     "text": [
      "24 ['5000 mAh Lithium Polymer Battery', '5000 mAh Lithium-Ion Battery', '5000 mAh Battery', '5000 mAh Battery', '5000 mAh Battery', '5000 mAh Battery', '6000 mAh Battery', '6000 mAh Lithium Ion Battery', '5000 mAh Lithium-ion Polymer Battery', '5000 mAh Battery', '6000 mAh Battery', '6000 mAh Battery', '6000 mAh Battery', '5000 mAh Lithium Polymer Battery', '5000 mAh Battery', '5000 mAh Lithium-Ion Battery', '5000 mAh Battery', '5000 mAh Battery', '6000 mAh Lithium Ion Battery', '5000 mAh Li-ion Polymer Battery', '5000 mAh Battery', '5000 mAh Battery', '5000 mAh Battery', '5000 mAh Battery']\n"
     ]
    }
   ],
   "source": [
    "B=driver.find_elements(By.XPATH,\"//ul[@class='_1xgFaf']//li[4]\")\n",
    "for i in B:\n",
    "    if i.text is None :\n",
    "        Battery.append(\"--\") \n",
    "    else:\n",
    "        Battery.append(i.text)\n",
    "print(len(Battery),Battery)"
   ]
  },
  {
   "cell_type": "code",
   "execution_count": 28,
   "id": "235ea3d0",
   "metadata": {},
   "outputs": [
    {
     "name": "stdout",
     "output_type": "stream",
     "text": [
      "24 ['₹9,999', '₹6,499', '₹22,999', '₹22,999', '₹17,035', '₹20,999', '₹6,699', '₹9,199', '₹7,777', '₹6,499', '₹6,699', '₹6,699', '₹6,799', '₹9,999', '₹20,999', '₹6,499', '₹17,999', '₹22,999', '₹9,199', '₹13,499', '₹7,499', '₹21,992', '₹21,992', '₹19,999']\n"
     ]
    }
   ],
   "source": [
    "price=driver.find_elements(By.XPATH,\"//div[@class='_30jeq3 _1_WHN1']\")\n",
    "for i in price:\n",
    "    if i.text is None :\n",
    "        Price.append(\"--\") \n",
    "    else:\n",
    "        Price.append(i.text)\n",
    "print(len(Price),Price)"
   ]
  },
  {
   "cell_type": "code",
   "execution_count": 29,
   "id": "1579e69a",
   "metadata": {},
   "outputs": [
    {
     "data": {
      "text/html": [
       "<div>\n",
       "<style scoped>\n",
       "    .dataframe tbody tr th:only-of-type {\n",
       "        vertical-align: middle;\n",
       "    }\n",
       "\n",
       "    .dataframe tbody tr th {\n",
       "        vertical-align: top;\n",
       "    }\n",
       "\n",
       "    .dataframe thead th {\n",
       "        text-align: right;\n",
       "    }\n",
       "</style>\n",
       "<table border=\"1\" class=\"dataframe\">\n",
       "  <thead>\n",
       "    <tr style=\"text-align: right;\">\n",
       "      <th></th>\n",
       "      <th>Brand_Name</th>\n",
       "      <th>Storage_RAM_ROM</th>\n",
       "      <th>Amount P_F_Camera</th>\n",
       "      <th>Display_size_Resolution</th>\n",
       "      <th>ProcessorAndCores</th>\n",
       "      <th>Battery</th>\n",
       "      <th>Price</th>\n",
       "    </tr>\n",
       "  </thead>\n",
       "  <tbody>\n",
       "    <tr>\n",
       "      <th>0</th>\n",
       "      <td>MOTOROLA G32 (Mineral Gray, 128 GB)</td>\n",
       "      <td>8 GB RAM | 128 GB ROM</td>\n",
       "      <td>50MP + 8MP + 2MP | 16MP Front Camera</td>\n",
       "      <td>16.51 cm (6.5 inch) Full HD+ Display</td>\n",
       "      <td>Qualcomm Snapdragon 680 Processor</td>\n",
       "      <td>5000 mAh Lithium Polymer Battery</td>\n",
       "      <td>₹9,999</td>\n",
       "    </tr>\n",
       "    <tr>\n",
       "      <th>1</th>\n",
       "      <td>SAMSUNG Galaxy F04 (Opal Green, 64 GB)</td>\n",
       "      <td>4 GB RAM | 64 GB ROM | Expandable Upto 1 TB</td>\n",
       "      <td>13MP + 2MP | 5MP Front Camera</td>\n",
       "      <td>16.51 cm (6.5 inch) HD Display</td>\n",
       "      <td>Mediatek Helio P35 Processor</td>\n",
       "      <td>5000 mAh Lithium-Ion Battery</td>\n",
       "      <td>₹6,499</td>\n",
       "    </tr>\n",
       "    <tr>\n",
       "      <th>2</th>\n",
       "      <td>MOTOROLA Edge 40 Neo (Black Beauty, 256 GB)</td>\n",
       "      <td>12 GB RAM | 256 GB ROM</td>\n",
       "      <td>50MP + 13MP | 32MP Front Camera</td>\n",
       "      <td>16.64 cm (6.55 inch) Full HD+ Display</td>\n",
       "      <td>Dimensity 7030 Processor</td>\n",
       "      <td>5000 mAh Battery</td>\n",
       "      <td>₹22,999</td>\n",
       "    </tr>\n",
       "    <tr>\n",
       "      <th>3</th>\n",
       "      <td>MOTOROLA Edge 40 Neo (Caneel Bay, 256 GB)</td>\n",
       "      <td>12 GB RAM | 256 GB ROM</td>\n",
       "      <td>50MP + 13MP | 32MP Front Camera</td>\n",
       "      <td>16.64 cm (6.55 inch) Full HD+ Display</td>\n",
       "      <td>Dimensity 7030 Processor</td>\n",
       "      <td>5000 mAh Battery</td>\n",
       "      <td>₹22,999</td>\n",
       "    </tr>\n",
       "    <tr>\n",
       "      <th>4</th>\n",
       "      <td>OnePlus Nord CE 2 Lite 5G (Blue Tide, 128 GB)</td>\n",
       "      <td>6 GB RAM | 128 GB ROM</td>\n",
       "      <td>64MP Rear Camera | 16MP Front Camera</td>\n",
       "      <td>16.74 cm (6.59 inch) Display</td>\n",
       "      <td>12 Months</td>\n",
       "      <td>5000 mAh Battery</td>\n",
       "      <td>₹17,035</td>\n",
       "    </tr>\n",
       "    <tr>\n",
       "      <th>5</th>\n",
       "      <td>MOTOROLA Edge 40 Neo (Black Beauty, 128 GB)</td>\n",
       "      <td>8 GB RAM | 128 GB ROM</td>\n",
       "      <td>50MP + 13MP | 32MP Front Camera</td>\n",
       "      <td>16.64 cm (6.55 inch) Full HD+ Display</td>\n",
       "      <td>Dimensity 7030 Processor</td>\n",
       "      <td>5000 mAh Battery</td>\n",
       "      <td>₹20,999</td>\n",
       "    </tr>\n",
       "    <tr>\n",
       "      <th>6</th>\n",
       "      <td>Infinix SMART 7 (Azure Blue, 64 GB)</td>\n",
       "      <td>4 GB RAM | 64 GB ROM | Expandable Upto 2 TB</td>\n",
       "      <td>13MP + AI Lens | 5MP Front Camera</td>\n",
       "      <td>16.76 cm (6.6 inch) HD+ Display</td>\n",
       "      <td>Unisoc Spreadtrum SC9863A1 Processor</td>\n",
       "      <td>6000 mAh Battery</td>\n",
       "      <td>₹6,699</td>\n",
       "    </tr>\n",
       "    <tr>\n",
       "      <th>7</th>\n",
       "      <td>SAMSUNG Galaxy F13 (Waterfall Blue, 64 GB)</td>\n",
       "      <td>4 GB RAM | 64 GB ROM | Expandable Upto 1 TB</td>\n",
       "      <td>50MP + 5MP + 2MP | 8MP Front Camera</td>\n",
       "      <td>16.76 cm (6.6 inch) Full HD+ Display</td>\n",
       "      <td>Exynos 850 Processor</td>\n",
       "      <td>6000 mAh Lithium Ion Battery</td>\n",
       "      <td>₹9,199</td>\n",
       "    </tr>\n",
       "    <tr>\n",
       "      <th>8</th>\n",
       "      <td>POCO M5 (Icy Blue, 64 GB)</td>\n",
       "      <td>4 GB RAM | 64 GB ROM | Expandable Upto 512 GB</td>\n",
       "      <td>50MP + 2MP Depth Sensor + 2MP Macro Sensor | 8...</td>\n",
       "      <td>16.71 cm (6.58 inch) Full HD+ Display</td>\n",
       "      <td>Mediatek Helio G99 Processor</td>\n",
       "      <td>5000 mAh Lithium-ion Polymer Battery</td>\n",
       "      <td>₹7,777</td>\n",
       "    </tr>\n",
       "    <tr>\n",
       "      <th>9</th>\n",
       "      <td>MOTOROLA e13 (Aurora Green, 64 GB)</td>\n",
       "      <td>4 GB RAM | 64 GB ROM | Expandable Upto 1 TB</td>\n",
       "      <td>13MP Rear Camera | 5MP Front Camera</td>\n",
       "      <td>16.51 cm (6.5 inch) HD+ Display</td>\n",
       "      <td>Unisoc T606 Processor</td>\n",
       "      <td>5000 mAh Battery</td>\n",
       "      <td>₹6,499</td>\n",
       "    </tr>\n",
       "    <tr>\n",
       "      <th>10</th>\n",
       "      <td>Infinix SMART 7 (Emerald Green, 64 GB)</td>\n",
       "      <td>4 GB RAM | 64 GB ROM | Expandable Upto 2 TB</td>\n",
       "      <td>13MP + AI Lens | 5MP Front Camera</td>\n",
       "      <td>16.76 cm (6.6 inch) HD+ Display</td>\n",
       "      <td>Unisoc Spreadtrum SC9863A1 Processor</td>\n",
       "      <td>6000 mAh Battery</td>\n",
       "      <td>₹6,699</td>\n",
       "    </tr>\n",
       "    <tr>\n",
       "      <th>11</th>\n",
       "      <td>Infinix SMART 7 (Night Black, 64 GB)</td>\n",
       "      <td>4 GB RAM | 64 GB ROM | Expandable Upto 2 TB</td>\n",
       "      <td>13MP + AI Lens | 5MP Front Camera</td>\n",
       "      <td>16.76 cm (6.6 inch) HD+ Display</td>\n",
       "      <td>Unisoc Spreadtrum SC9863A1 Processor</td>\n",
       "      <td>6000 mAh Battery</td>\n",
       "      <td>₹6,699</td>\n",
       "    </tr>\n",
       "    <tr>\n",
       "      <th>12</th>\n",
       "      <td>Infinix SMART 7 (Azure Blue, 128 GB)</td>\n",
       "      <td>4 GB RAM | 128 GB ROM | Expandable Upto 512 GB</td>\n",
       "      <td>13MP + AI Lens | 5MP Front Camera</td>\n",
       "      <td>16.76 cm (6.6 inch) HD+ Display</td>\n",
       "      <td>Unisoc Spreadtrum SC9863A1 Processor</td>\n",
       "      <td>6000 mAh Battery</td>\n",
       "      <td>₹6,799</td>\n",
       "    </tr>\n",
       "    <tr>\n",
       "      <th>13</th>\n",
       "      <td>MOTOROLA G32 (Satin Silver, 128 GB)</td>\n",
       "      <td>8 GB RAM | 128 GB ROM</td>\n",
       "      <td>50MP + 8MP + 2MP | 16MP Front Camera</td>\n",
       "      <td>16.51 cm (6.5 inch) Full HD+ Display</td>\n",
       "      <td>Qualcomm Snapdragon 680 Processor</td>\n",
       "      <td>5000 mAh Lithium Polymer Battery</td>\n",
       "      <td>₹9,999</td>\n",
       "    </tr>\n",
       "    <tr>\n",
       "      <th>14</th>\n",
       "      <td>MOTOROLA Edge 40 Neo (Caneel Bay, 128 GB)</td>\n",
       "      <td>8 GB RAM | 128 GB ROM</td>\n",
       "      <td>50MP + 13MP | 32MP Front Camera</td>\n",
       "      <td>16.64 cm (6.55 inch) Full HD+ Display</td>\n",
       "      <td>Dimensity 7030 Processor</td>\n",
       "      <td>5000 mAh Battery</td>\n",
       "      <td>₹20,999</td>\n",
       "    </tr>\n",
       "    <tr>\n",
       "      <th>15</th>\n",
       "      <td>SAMSUNG Galaxy F04 (Jade Purple, 64 GB)</td>\n",
       "      <td>4 GB RAM | 64 GB ROM | Expandable Upto 1 TB</td>\n",
       "      <td>13MP + 2MP | 5MP Front Camera</td>\n",
       "      <td>16.51 cm (6.5 inch) HD Display</td>\n",
       "      <td>Mediatek Helio P35 Processor</td>\n",
       "      <td>5000 mAh Lithium-Ion Battery</td>\n",
       "      <td>₹6,499</td>\n",
       "    </tr>\n",
       "    <tr>\n",
       "      <th>16</th>\n",
       "      <td>MOTOROLA g84 5G (Viva Magneta, 256 GB)</td>\n",
       "      <td>12 GB RAM | 256 GB ROM</td>\n",
       "      <td>50MP (OIS) + 8MP | 16MP Front Camera</td>\n",
       "      <td>16.64 cm (6.55 inch) Full HD+ Display</td>\n",
       "      <td>Snapdragon 695 Processor</td>\n",
       "      <td>5000 mAh Battery</td>\n",
       "      <td>₹17,999</td>\n",
       "    </tr>\n",
       "    <tr>\n",
       "      <th>17</th>\n",
       "      <td>MOTOROLA Edge 40 Neo (Soothing Sea, 256 GB)</td>\n",
       "      <td>12 GB RAM | 256 GB ROM</td>\n",
       "      <td>50MP + 13MP | 32MP Front Camera</td>\n",
       "      <td>16.64 cm (6.55 inch) Full HD+ Display</td>\n",
       "      <td>Dimensity 7030 Processor</td>\n",
       "      <td>5000 mAh Battery</td>\n",
       "      <td>₹22,999</td>\n",
       "    </tr>\n",
       "    <tr>\n",
       "      <th>18</th>\n",
       "      <td>SAMSUNG Galaxy F13 (Sunrise Copper, 64 GB)</td>\n",
       "      <td>4 GB RAM | 64 GB ROM | Expandable Upto 1 TB</td>\n",
       "      <td>50MP + 5MP + 2MP | 8MP Front Camera</td>\n",
       "      <td>16.76 cm (6.6 inch) Full HD+ Display</td>\n",
       "      <td>Exynos 850 Processor</td>\n",
       "      <td>6000 mAh Lithium Ion Battery</td>\n",
       "      <td>₹9,199</td>\n",
       "    </tr>\n",
       "    <tr>\n",
       "      <th>19</th>\n",
       "      <td>Infinix Note 30 5G (Sunset Gold, 128 GB)</td>\n",
       "      <td>4 GB RAM | 128 GB ROM | Expandable Upto 2 TB</td>\n",
       "      <td>108 MP + 2 MP+ AI Lens | 16MP Front Camera</td>\n",
       "      <td>17.22 cm (6.78 inch) Full HD+ Display</td>\n",
       "      <td>Dimensity 6080 Processor</td>\n",
       "      <td>5000 mAh Li-ion Polymer Battery</td>\n",
       "      <td>₹13,499</td>\n",
       "    </tr>\n",
       "    <tr>\n",
       "      <th>20</th>\n",
       "      <td>MOTOROLA e13 (Aurora Green, 128 GB)</td>\n",
       "      <td>8 GB RAM | 128 GB ROM | Expandable Upto 1 TB</td>\n",
       "      <td>13MP Rear Camera | 5MP Front Camera</td>\n",
       "      <td>16.51 cm (6.5 inch) HD+ Display</td>\n",
       "      <td>Unisoc T606 Processor</td>\n",
       "      <td>5000 mAh Battery</td>\n",
       "      <td>₹7,499</td>\n",
       "    </tr>\n",
       "    <tr>\n",
       "      <th>21</th>\n",
       "      <td>OnePlus Nord CE 3 Lite 5G (Chromatic Gray, 256...</td>\n",
       "      <td>8 GB RAM | 256 GB ROM</td>\n",
       "      <td>108MP Rear Camera</td>\n",
       "      <td>17.07 cm (6.72 inch) Display</td>\n",
       "      <td>Domestic Warranty of 12 months on phone &amp; 6 mo...</td>\n",
       "      <td>5000 mAh Battery</td>\n",
       "      <td>₹21,992</td>\n",
       "    </tr>\n",
       "    <tr>\n",
       "      <th>22</th>\n",
       "      <td>OnePlus Nord CE 3 Lite 5G (Pastel Lime, 256 GB)</td>\n",
       "      <td>8 GB RAM | 256 GB ROM</td>\n",
       "      <td>108MP Rear Camera</td>\n",
       "      <td>17.07 cm (6.72 inch) Display</td>\n",
       "      <td>Domestic Warranty of 12 months on phone &amp; 6 mo...</td>\n",
       "      <td>5000 mAh Battery</td>\n",
       "      <td>₹21,992</td>\n",
       "    </tr>\n",
       "    <tr>\n",
       "      <th>23</th>\n",
       "      <td>OnePlus Nord CE 3 Lite 5G (Chromatic Gray, 128...</td>\n",
       "      <td>8 GB RAM | 128 GB ROM</td>\n",
       "      <td>108MP Rear Camera</td>\n",
       "      <td>17.07 cm (6.72 inch) Display</td>\n",
       "      <td>Domestic Warranty of 12 months on phone &amp; 6 mo...</td>\n",
       "      <td>5000 mAh Battery</td>\n",
       "      <td>₹19,999</td>\n",
       "    </tr>\n",
       "  </tbody>\n",
       "</table>\n",
       "</div>"
      ],
      "text/plain": [
       "                                           Brand_Name  \\\n",
       "0                 MOTOROLA G32 (Mineral Gray, 128 GB)   \n",
       "1              SAMSUNG Galaxy F04 (Opal Green, 64 GB)   \n",
       "2         MOTOROLA Edge 40 Neo (Black Beauty, 256 GB)   \n",
       "3           MOTOROLA Edge 40 Neo (Caneel Bay, 256 GB)   \n",
       "4       OnePlus Nord CE 2 Lite 5G (Blue Tide, 128 GB)   \n",
       "5         MOTOROLA Edge 40 Neo (Black Beauty, 128 GB)   \n",
       "6                 Infinix SMART 7 (Azure Blue, 64 GB)   \n",
       "7          SAMSUNG Galaxy F13 (Waterfall Blue, 64 GB)   \n",
       "8                           POCO M5 (Icy Blue, 64 GB)   \n",
       "9                  MOTOROLA e13 (Aurora Green, 64 GB)   \n",
       "10             Infinix SMART 7 (Emerald Green, 64 GB)   \n",
       "11               Infinix SMART 7 (Night Black, 64 GB)   \n",
       "12               Infinix SMART 7 (Azure Blue, 128 GB)   \n",
       "13                MOTOROLA G32 (Satin Silver, 128 GB)   \n",
       "14          MOTOROLA Edge 40 Neo (Caneel Bay, 128 GB)   \n",
       "15            SAMSUNG Galaxy F04 (Jade Purple, 64 GB)   \n",
       "16             MOTOROLA g84 5G (Viva Magneta, 256 GB)   \n",
       "17        MOTOROLA Edge 40 Neo (Soothing Sea, 256 GB)   \n",
       "18         SAMSUNG Galaxy F13 (Sunrise Copper, 64 GB)   \n",
       "19           Infinix Note 30 5G (Sunset Gold, 128 GB)   \n",
       "20                MOTOROLA e13 (Aurora Green, 128 GB)   \n",
       "21  OnePlus Nord CE 3 Lite 5G (Chromatic Gray, 256...   \n",
       "22    OnePlus Nord CE 3 Lite 5G (Pastel Lime, 256 GB)   \n",
       "23  OnePlus Nord CE 3 Lite 5G (Chromatic Gray, 128...   \n",
       "\n",
       "                                   Storage_RAM_ROM  \\\n",
       "0                            8 GB RAM | 128 GB ROM   \n",
       "1      4 GB RAM | 64 GB ROM | Expandable Upto 1 TB   \n",
       "2                           12 GB RAM | 256 GB ROM   \n",
       "3                           12 GB RAM | 256 GB ROM   \n",
       "4                            6 GB RAM | 128 GB ROM   \n",
       "5                            8 GB RAM | 128 GB ROM   \n",
       "6      4 GB RAM | 64 GB ROM | Expandable Upto 2 TB   \n",
       "7      4 GB RAM | 64 GB ROM | Expandable Upto 1 TB   \n",
       "8    4 GB RAM | 64 GB ROM | Expandable Upto 512 GB   \n",
       "9      4 GB RAM | 64 GB ROM | Expandable Upto 1 TB   \n",
       "10     4 GB RAM | 64 GB ROM | Expandable Upto 2 TB   \n",
       "11     4 GB RAM | 64 GB ROM | Expandable Upto 2 TB   \n",
       "12  4 GB RAM | 128 GB ROM | Expandable Upto 512 GB   \n",
       "13                           8 GB RAM | 128 GB ROM   \n",
       "14                           8 GB RAM | 128 GB ROM   \n",
       "15     4 GB RAM | 64 GB ROM | Expandable Upto 1 TB   \n",
       "16                          12 GB RAM | 256 GB ROM   \n",
       "17                          12 GB RAM | 256 GB ROM   \n",
       "18     4 GB RAM | 64 GB ROM | Expandable Upto 1 TB   \n",
       "19    4 GB RAM | 128 GB ROM | Expandable Upto 2 TB   \n",
       "20    8 GB RAM | 128 GB ROM | Expandable Upto 1 TB   \n",
       "21                           8 GB RAM | 256 GB ROM   \n",
       "22                           8 GB RAM | 256 GB ROM   \n",
       "23                           8 GB RAM | 128 GB ROM   \n",
       "\n",
       "                                    Amount P_F_Camera  \\\n",
       "0                50MP + 8MP + 2MP | 16MP Front Camera   \n",
       "1                       13MP + 2MP | 5MP Front Camera   \n",
       "2                     50MP + 13MP | 32MP Front Camera   \n",
       "3                     50MP + 13MP | 32MP Front Camera   \n",
       "4                64MP Rear Camera | 16MP Front Camera   \n",
       "5                     50MP + 13MP | 32MP Front Camera   \n",
       "6                   13MP + AI Lens | 5MP Front Camera   \n",
       "7                 50MP + 5MP + 2MP | 8MP Front Camera   \n",
       "8   50MP + 2MP Depth Sensor + 2MP Macro Sensor | 8...   \n",
       "9                 13MP Rear Camera | 5MP Front Camera   \n",
       "10                  13MP + AI Lens | 5MP Front Camera   \n",
       "11                  13MP + AI Lens | 5MP Front Camera   \n",
       "12                  13MP + AI Lens | 5MP Front Camera   \n",
       "13               50MP + 8MP + 2MP | 16MP Front Camera   \n",
       "14                    50MP + 13MP | 32MP Front Camera   \n",
       "15                      13MP + 2MP | 5MP Front Camera   \n",
       "16               50MP (OIS) + 8MP | 16MP Front Camera   \n",
       "17                    50MP + 13MP | 32MP Front Camera   \n",
       "18                50MP + 5MP + 2MP | 8MP Front Camera   \n",
       "19         108 MP + 2 MP+ AI Lens | 16MP Front Camera   \n",
       "20                13MP Rear Camera | 5MP Front Camera   \n",
       "21                                  108MP Rear Camera   \n",
       "22                                  108MP Rear Camera   \n",
       "23                                  108MP Rear Camera   \n",
       "\n",
       "                  Display_size_Resolution  \\\n",
       "0    16.51 cm (6.5 inch) Full HD+ Display   \n",
       "1          16.51 cm (6.5 inch) HD Display   \n",
       "2   16.64 cm (6.55 inch) Full HD+ Display   \n",
       "3   16.64 cm (6.55 inch) Full HD+ Display   \n",
       "4            16.74 cm (6.59 inch) Display   \n",
       "5   16.64 cm (6.55 inch) Full HD+ Display   \n",
       "6         16.76 cm (6.6 inch) HD+ Display   \n",
       "7    16.76 cm (6.6 inch) Full HD+ Display   \n",
       "8   16.71 cm (6.58 inch) Full HD+ Display   \n",
       "9         16.51 cm (6.5 inch) HD+ Display   \n",
       "10        16.76 cm (6.6 inch) HD+ Display   \n",
       "11        16.76 cm (6.6 inch) HD+ Display   \n",
       "12        16.76 cm (6.6 inch) HD+ Display   \n",
       "13   16.51 cm (6.5 inch) Full HD+ Display   \n",
       "14  16.64 cm (6.55 inch) Full HD+ Display   \n",
       "15         16.51 cm (6.5 inch) HD Display   \n",
       "16  16.64 cm (6.55 inch) Full HD+ Display   \n",
       "17  16.64 cm (6.55 inch) Full HD+ Display   \n",
       "18   16.76 cm (6.6 inch) Full HD+ Display   \n",
       "19  17.22 cm (6.78 inch) Full HD+ Display   \n",
       "20        16.51 cm (6.5 inch) HD+ Display   \n",
       "21           17.07 cm (6.72 inch) Display   \n",
       "22           17.07 cm (6.72 inch) Display   \n",
       "23           17.07 cm (6.72 inch) Display   \n",
       "\n",
       "                                    ProcessorAndCores  \\\n",
       "0                   Qualcomm Snapdragon 680 Processor   \n",
       "1                        Mediatek Helio P35 Processor   \n",
       "2                            Dimensity 7030 Processor   \n",
       "3                            Dimensity 7030 Processor   \n",
       "4                                           12 Months   \n",
       "5                            Dimensity 7030 Processor   \n",
       "6                Unisoc Spreadtrum SC9863A1 Processor   \n",
       "7                                Exynos 850 Processor   \n",
       "8                        Mediatek Helio G99 Processor   \n",
       "9                               Unisoc T606 Processor   \n",
       "10               Unisoc Spreadtrum SC9863A1 Processor   \n",
       "11               Unisoc Spreadtrum SC9863A1 Processor   \n",
       "12               Unisoc Spreadtrum SC9863A1 Processor   \n",
       "13                  Qualcomm Snapdragon 680 Processor   \n",
       "14                           Dimensity 7030 Processor   \n",
       "15                       Mediatek Helio P35 Processor   \n",
       "16                           Snapdragon 695 Processor   \n",
       "17                           Dimensity 7030 Processor   \n",
       "18                               Exynos 850 Processor   \n",
       "19                           Dimensity 6080 Processor   \n",
       "20                              Unisoc T606 Processor   \n",
       "21  Domestic Warranty of 12 months on phone & 6 mo...   \n",
       "22  Domestic Warranty of 12 months on phone & 6 mo...   \n",
       "23  Domestic Warranty of 12 months on phone & 6 mo...   \n",
       "\n",
       "                                 Battery    Price  \n",
       "0       5000 mAh Lithium Polymer Battery   ₹9,999  \n",
       "1           5000 mAh Lithium-Ion Battery   ₹6,499  \n",
       "2                       5000 mAh Battery  ₹22,999  \n",
       "3                       5000 mAh Battery  ₹22,999  \n",
       "4                       5000 mAh Battery  ₹17,035  \n",
       "5                       5000 mAh Battery  ₹20,999  \n",
       "6                       6000 mAh Battery   ₹6,699  \n",
       "7           6000 mAh Lithium Ion Battery   ₹9,199  \n",
       "8   5000 mAh Lithium-ion Polymer Battery   ₹7,777  \n",
       "9                       5000 mAh Battery   ₹6,499  \n",
       "10                      6000 mAh Battery   ₹6,699  \n",
       "11                      6000 mAh Battery   ₹6,699  \n",
       "12                      6000 mAh Battery   ₹6,799  \n",
       "13      5000 mAh Lithium Polymer Battery   ₹9,999  \n",
       "14                      5000 mAh Battery  ₹20,999  \n",
       "15          5000 mAh Lithium-Ion Battery   ₹6,499  \n",
       "16                      5000 mAh Battery  ₹17,999  \n",
       "17                      5000 mAh Battery  ₹22,999  \n",
       "18          6000 mAh Lithium Ion Battery   ₹9,199  \n",
       "19       5000 mAh Li-ion Polymer Battery  ₹13,499  \n",
       "20                      5000 mAh Battery   ₹7,499  \n",
       "21                      5000 mAh Battery  ₹21,992  \n",
       "22                      5000 mAh Battery  ₹21,992  \n",
       "23                      5000 mAh Battery  ₹19,999  "
      ]
     },
     "execution_count": 29,
     "metadata": {},
     "output_type": "execute_result"
    }
   ],
   "source": [
    "FlipKart=pd.DataFrame([])\n",
    "FlipKart['Brand_Name']=Brand_Name\n",
    "FlipKart['Storage_RAM_ROM']=Storage_RAM_ROM\n",
    "FlipKart['Amount P_F_Camera']=P_F_Camera\n",
    "FlipKart['Display_size_Resolution']=Display_size_Resolution\n",
    "FlipKart['ProcessorAndCores']=ProcessorAndCores\n",
    "FlipKart['Battery']=Battery\n",
    "FlipKart['Price']=Price\n",
    "\n",
    "FlipKart"
   ]
  },
  {
   "cell_type": "code",
   "execution_count": 2,
   "id": "613a17d8",
   "metadata": {},
   "outputs": [],
   "source": [
    "driver = webdriver.Chrome()"
   ]
  },
  {
   "cell_type": "code",
   "execution_count": 5,
   "id": "e0888882",
   "metadata": {},
   "outputs": [
    {
     "name": "stdout",
     "output_type": "stream",
     "text": [
      "enter your item: guitar\n"
     ]
    }
   ],
   "source": [
    "val=input(\"enter your item: \")"
   ]
  },
  {
   "cell_type": "code",
   "execution_count": 6,
   "id": "a5ed7c2e",
   "metadata": {},
   "outputs": [],
   "source": [
    "driver = webdriver.Chrome()"
   ]
  },
  {
   "cell_type": "code",
   "execution_count": 8,
   "id": "605a167c",
   "metadata": {},
   "outputs": [],
   "source": [
    "driver.get(\"https://www.amazon.in/\")"
   ]
  },
  {
   "cell_type": "code",
   "execution_count": 11,
   "id": "52688306",
   "metadata": {},
   "outputs": [],
   "source": [
    "part_tags=driver.find_element(By.XPATH,'//input[@class=\"nav-input nav-progressive-attribute\"]')\n",
    "part_tags.send_keys('guitar')\n",
    "search=driver.find_element(By.XPATH,'//input[@class=\"nav-input nav-progressive-attribute\"]')\n",
    "search.click()\n",
    "time.sleep(2)"
   ]
  },
  {
   "cell_type": "code",
   "execution_count": 13,
   "id": "4f4cb1ab",
   "metadata": {},
   "outputs": [],
   "source": [
    "product_urls = []\n",
    "start=0\n",
    "end=3\n",
    "for page in range(start,end):\n",
    "    url=driver.find_elements(By.XPATH,'//span[@class=\"a-size-base-plus a-color-base a-text-normal\"]')\n",
    "    for i in url:\n",
    "        product_urls.append(i.get_attribute(\"href\"))\n",
    "    nxt_button=driver.find_element(By.XPATH,'//a[@class=\"s-pagination-item s-pagination-next s-pagination-button s-pagination-separator\"]') \n",
    "    nxt_button.click()\n",
    "    time.sleep(2)"
   ]
  },
  {
   "cell_type": "code",
   "execution_count": 14,
   "id": "511eb4cc",
   "metadata": {},
   "outputs": [
    {
     "data": {
      "text/plain": [
       "164"
      ]
     },
     "execution_count": 14,
     "metadata": {},
     "output_type": "execute_result"
    }
   ],
   "source": [
    "len(product_urls)"
   ]
  }
 ],
 "metadata": {
  "kernelspec": {
   "display_name": "Python 3 (ipykernel)",
   "language": "python",
   "name": "python3"
  },
  "language_info": {
   "codemirror_mode": {
    "name": "ipython",
    "version": 3
   },
   "file_extension": ".py",
   "mimetype": "text/x-python",
   "name": "python",
   "nbconvert_exporter": "python",
   "pygments_lexer": "ipython3",
   "version": "3.9.13"
  }
 },
 "nbformat": 4,
 "nbformat_minor": 5
}
